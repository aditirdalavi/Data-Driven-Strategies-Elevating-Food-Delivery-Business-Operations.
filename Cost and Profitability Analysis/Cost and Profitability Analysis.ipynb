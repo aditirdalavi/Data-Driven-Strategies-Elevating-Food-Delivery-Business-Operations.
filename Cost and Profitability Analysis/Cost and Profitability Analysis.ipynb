{
 "cells": [
  {
   "cell_type": "markdown",
   "id": "15e2f927",
   "metadata": {},
   "source": [
    "# Cost and Profitability Analysis:\n",
    "\n",
    "Cost and Profitability analysis examines the costs and revenue involved in delivering food orders. \n",
    "\n",
    "It looks at expenses like delivery fees and discounts against income from orders and commissions to understand the service's profitability per order. Through careful data analysis and strategic recommendations, the project aims to improve efficiency and increase profits in food delivery operations.\n",
    "\n",
    "#### Below is the process for conducting the Food Delivery Cost and Profitability Analysis:\n",
    "1. Data Cleaning: Ensure data accuracy by removing inconsistencies and standardizing date/time formats in the dataset.\n",
    "2. Feature Extraction: Identify key factors impacting cost and profitability, such as Payment Method, Delivery Fee, Discounts, etc.\n",
    "3. Transaction Analysis: Analyze customer behavior and transactional patterns to discern trends and preferences.\n",
    "4. Cost and Profitability Analysis: Compute profit and revenue from orders, considering order values and commissions. Visualize cost, revenue, and profit distributions to compare total revenue, costs, and profit.\n",
    "5. Profit Enhancement Strategy: Determine an optimal balance between offering discounts and charging commissions. Develop new average commission and discount percentages for profitable orders."
   ]
  },
  {
   "cell_type": "code",
   "execution_count": 1,
   "id": "64abfc5c",
   "metadata": {},
   "outputs": [],
   "source": [
    "# importing libraries:\n",
    "import pandas as pd\n",
    "from datetime import datetime\n",
    "import matplotlib.pyplot as plt\n",
    "import plotly.express as px\n",
    "import plotly.io as pio\n",
    "import plotly.graph_objects as go\n",
    "from plotly.subplots import make_subplots\n",
    "pio.templates.default = \"plotly_white\""
   ]
  },
  {
   "cell_type": "code",
   "execution_count": 2,
   "id": "542d388f",
   "metadata": {},
   "outputs": [
    {
     "data": {
      "text/html": [
       "<div>\n",
       "<style scoped>\n",
       "    .dataframe tbody tr th:only-of-type {\n",
       "        vertical-align: middle;\n",
       "    }\n",
       "\n",
       "    .dataframe tbody tr th {\n",
       "        vertical-align: top;\n",
       "    }\n",
       "\n",
       "    .dataframe thead th {\n",
       "        text-align: right;\n",
       "    }\n",
       "</style>\n",
       "<table border=\"1\" class=\"dataframe\">\n",
       "  <thead>\n",
       "    <tr style=\"text-align: right;\">\n",
       "      <th></th>\n",
       "      <th>Order ID</th>\n",
       "      <th>Customer ID</th>\n",
       "      <th>Restaurant ID</th>\n",
       "      <th>Order Date and Time</th>\n",
       "      <th>Delivery Date and Time</th>\n",
       "      <th>Order Value</th>\n",
       "      <th>Delivery Fee</th>\n",
       "      <th>Payment Method</th>\n",
       "      <th>Discounts and Offers</th>\n",
       "      <th>Commission Fee</th>\n",
       "      <th>Payment Processing Fee</th>\n",
       "      <th>Refunds/Chargebacks</th>\n",
       "    </tr>\n",
       "  </thead>\n",
       "  <tbody>\n",
       "    <tr>\n",
       "      <th>0</th>\n",
       "      <td>1</td>\n",
       "      <td>C8270</td>\n",
       "      <td>R2924</td>\n",
       "      <td>2024-02-01 01:11:52</td>\n",
       "      <td>2024-02-01 02:39:52</td>\n",
       "      <td>1914</td>\n",
       "      <td>0</td>\n",
       "      <td>Credit Card</td>\n",
       "      <td>5% on App</td>\n",
       "      <td>150</td>\n",
       "      <td>47</td>\n",
       "      <td>0</td>\n",
       "    </tr>\n",
       "    <tr>\n",
       "      <th>1</th>\n",
       "      <td>2</td>\n",
       "      <td>C1860</td>\n",
       "      <td>R2054</td>\n",
       "      <td>2024-02-02 22:11:04</td>\n",
       "      <td>2024-02-02 22:46:04</td>\n",
       "      <td>986</td>\n",
       "      <td>40</td>\n",
       "      <td>Digital Wallet</td>\n",
       "      <td>10%</td>\n",
       "      <td>198</td>\n",
       "      <td>23</td>\n",
       "      <td>0</td>\n",
       "    </tr>\n",
       "    <tr>\n",
       "      <th>2</th>\n",
       "      <td>3</td>\n",
       "      <td>C6390</td>\n",
       "      <td>R2870</td>\n",
       "      <td>2024-01-31 05:54:35</td>\n",
       "      <td>2024-01-31 06:52:35</td>\n",
       "      <td>937</td>\n",
       "      <td>30</td>\n",
       "      <td>Cash on Delivery</td>\n",
       "      <td>15% New User</td>\n",
       "      <td>195</td>\n",
       "      <td>45</td>\n",
       "      <td>0</td>\n",
       "    </tr>\n",
       "  </tbody>\n",
       "</table>\n",
       "</div>"
      ],
      "text/plain": [
       "   Order ID Customer ID Restaurant ID  Order Date and Time  \\\n",
       "0         1       C8270         R2924  2024-02-01 01:11:52   \n",
       "1         2       C1860         R2054  2024-02-02 22:11:04   \n",
       "2         3       C6390         R2870  2024-01-31 05:54:35   \n",
       "\n",
       "  Delivery Date and Time  Order Value  Delivery Fee    Payment Method  \\\n",
       "0    2024-02-01 02:39:52         1914             0       Credit Card   \n",
       "1    2024-02-02 22:46:04          986            40    Digital Wallet   \n",
       "2    2024-01-31 06:52:35          937            30  Cash on Delivery   \n",
       "\n",
       "  Discounts and Offers  Commission Fee  Payment Processing Fee  \\\n",
       "0            5% on App             150                      47   \n",
       "1                  10%             198                      23   \n",
       "2         15% New User             195                      45   \n",
       "\n",
       "   Refunds/Chargebacks  \n",
       "0                    0  \n",
       "1                    0  \n",
       "2                    0  "
      ]
     },
     "execution_count": 2,
     "metadata": {},
     "output_type": "execute_result"
    }
   ],
   "source": [
    "data = pd.read_csv(r\"C:\\Users\\user\\Desktop\\April\\Cost and Profitability Analysis\\Food Delivery Services.csv\")\n",
    "data.head(3)"
   ]
  },
  {
   "cell_type": "markdown",
   "id": "735f3f03",
   "metadata": {},
   "source": [
    "### The dataset comprises 1000 entries and encompasses various attributes related to food orders in a delivery service. These attributes include:\n",
    "\n",
    "* Order ID: A unique identifier for each order.\n",
    "* Customer ID: Identification of the customer placing the order.\n",
    "* Restaurant ID: Identification of the restaurant fulfilling the order.\n",
    "* Order Date and Time: Timestamp indicating when the order was placed.\n",
    "* Delivery Date and Time: Timestamp indicating when the order was delivered.\n",
    "* Order Value: The total value of the order.\n",
    "* Delivery Fee: The fee charged for delivering the order.\n",
    "* Payment Method: The method used by the customer to make payment.\n",
    "* Discounts and Offers: Any discounts or promotional offers applied to the order.\n",
    "* Commission Fee: The fee charged to the restaurant by the delivery service.\n",
    "* Payment Processing Fee: The fee incurred for processing the payment.\n",
    "* Refunds/Chargebacks: Any refunds or chargebacks associated with the order.\n",
    "\n",
    "These attributes provide comprehensive information for analyzing the cost and profitability of the food delivery service, as well as understanding customer behavior and transactional patterns."
   ]
  },
  {
   "cell_type": "markdown",
   "id": "3498e1d0",
   "metadata": {},
   "source": [
    "# Data Cleaning and Preparation:"
   ]
  },
  {
   "cell_type": "code",
   "execution_count": 3,
   "id": "0f27b2aa",
   "metadata": {},
   "outputs": [
    {
     "data": {
      "text/plain": [
       "Order ID                    0\n",
       "Customer ID                 0\n",
       "Restaurant ID               0\n",
       "Order Date and Time         0\n",
       "Delivery Date and Time      0\n",
       "Order Value                 0\n",
       "Delivery Fee                0\n",
       "Payment Method              0\n",
       "Discounts and Offers      185\n",
       "Commission Fee              0\n",
       "Payment Processing Fee      0\n",
       "Refunds/Chargebacks         0\n",
       "dtype: int64"
      ]
     },
     "execution_count": 3,
     "metadata": {},
     "output_type": "execute_result"
    }
   ],
   "source": [
    "data.isnull().sum()"
   ]
  },
  {
   "cell_type": "code",
   "execution_count": 4,
   "id": "b89bc335",
   "metadata": {},
   "outputs": [
    {
     "name": "stdout",
     "output_type": "stream",
     "text": [
      "<class 'pandas.core.frame.DataFrame'>\n",
      "RangeIndex: 1000 entries, 0 to 999\n",
      "Data columns (total 12 columns):\n",
      " #   Column                  Non-Null Count  Dtype \n",
      "---  ------                  --------------  ----- \n",
      " 0   Order ID                1000 non-null   int64 \n",
      " 1   Customer ID             1000 non-null   object\n",
      " 2   Restaurant ID           1000 non-null   object\n",
      " 3   Order Date and Time     1000 non-null   object\n",
      " 4   Delivery Date and Time  1000 non-null   object\n",
      " 5   Order Value             1000 non-null   int64 \n",
      " 6   Delivery Fee            1000 non-null   int64 \n",
      " 7   Payment Method          1000 non-null   object\n",
      " 8   Discounts and Offers    815 non-null    object\n",
      " 9   Commission Fee          1000 non-null   int64 \n",
      " 10  Payment Processing Fee  1000 non-null   int64 \n",
      " 11  Refunds/Chargebacks     1000 non-null   int64 \n",
      "dtypes: int64(6), object(6)\n",
      "memory usage: 93.9+ KB\n"
     ]
    }
   ],
   "source": [
    "data.info()"
   ]
  },
  {
   "cell_type": "markdown",
   "id": "b2ec68c0",
   "metadata": {},
   "source": [
    "* #### Convert “Order Date and Time” and “Delivery Date and Time” to a datetime format."
   ]
  },
  {
   "cell_type": "code",
   "execution_count": 5,
   "id": "465efc97",
   "metadata": {},
   "outputs": [],
   "source": [
    "# convert date and time columns to datetime\n",
    "data['Order Date and Time'] = pd.to_datetime(data['Order Date and Time'])\n",
    "data['Delivery Date and Time'] = pd.to_datetime(data['Delivery Date and Time'])"
   ]
  },
  {
   "cell_type": "markdown",
   "id": "dda27ff4",
   "metadata": {},
   "source": [
    "* #### Convert “Discounts and Offers” to a consistent numeric value (percentage) and calculate the discount amounts."
   ]
  },
  {
   "cell_type": "code",
   "execution_count": 6,
   "id": "75ba707c",
   "metadata": {},
   "outputs": [
    {
     "ename": "NameError",
     "evalue": "name 'calculate_discount' is not defined",
     "output_type": "error",
     "traceback": [
      "\u001b[1;31m---------------------------------------------------------------------------\u001b[0m",
      "\u001b[1;31mNameError\u001b[0m                                 Traceback (most recent call last)",
      "Cell \u001b[1;32mIn[6], line 5\u001b[0m\n\u001b[0;32m      2\u001b[0m data[\u001b[38;5;124m'\u001b[39m\u001b[38;5;124mDiscounts and Offers\u001b[39m\u001b[38;5;124m'\u001b[39m] \u001b[38;5;241m=\u001b[39m data[\u001b[38;5;124m'\u001b[39m\u001b[38;5;124mDiscounts and Offers\u001b[39m\u001b[38;5;124m'\u001b[39m]\u001b[38;5;241m.\u001b[39mastype(\u001b[38;5;28mstr\u001b[39m)\n\u001b[0;32m      4\u001b[0m \u001b[38;5;66;03m# Apply the function to create a new 'Discount Percentage' column\u001b[39;00m\n\u001b[1;32m----> 5\u001b[0m data[\u001b[38;5;124m'\u001b[39m\u001b[38;5;124mDiscount Percentage\u001b[39m\u001b[38;5;124m'\u001b[39m] \u001b[38;5;241m=\u001b[39m data[\u001b[38;5;124m'\u001b[39m\u001b[38;5;124mDiscounts and Offers\u001b[39m\u001b[38;5;124m'\u001b[39m]\u001b[38;5;241m.\u001b[39mapply(calculate_discount)\n\u001b[0;32m      7\u001b[0m \u001b[38;5;66;03m# Calculate the 'Discount Amount' based on the order value and discount percentage\u001b[39;00m\n\u001b[0;32m      8\u001b[0m data[\u001b[38;5;124m'\u001b[39m\u001b[38;5;124mDiscount Amount\u001b[39m\u001b[38;5;124m'\u001b[39m] \u001b[38;5;241m=\u001b[39m data\u001b[38;5;241m.\u001b[39mapply(\u001b[38;5;28;01mlambda\u001b[39;00m row: row[\u001b[38;5;124m'\u001b[39m\u001b[38;5;124mOrder Value\u001b[39m\u001b[38;5;124m'\u001b[39m] \u001b[38;5;241m*\u001b[39m row[\u001b[38;5;124m'\u001b[39m\u001b[38;5;124mDiscount Percentage\u001b[39m\u001b[38;5;124m'\u001b[39m], axis\u001b[38;5;241m=\u001b[39m\u001b[38;5;241m1\u001b[39m)\n",
      "\u001b[1;31mNameError\u001b[0m: name 'calculate_discount' is not defined"
     ]
    }
   ],
   "source": [
    "# Convert the 'Discounts and Offers' column to strings\n",
    "data['Discounts and Offers'] = data['Discounts and Offers'].astype(str)\n",
    "\n",
    "# Apply the function to create a new 'Discount Percentage' column\n",
    "data['Discount Percentage'] = data['Discounts and Offers'].apply(calculate_discount)\n",
    "\n",
    "# Calculate the 'Discount Amount' based on the order value and discount percentage\n",
    "data['Discount Amount'] = data.apply(lambda row: row['Order Value'] * row['Discount Percentage'], axis=1)\n",
    "\n",
    "# Display the DataFrame\n",
    "data[['Order Value', 'Discounts and Offers', 'Discount Percentage', 'Discount Amount']].head(5)\n"
   ]
  },
  {
   "cell_type": "code",
   "execution_count": null,
   "id": "51b442dc",
   "metadata": {},
   "outputs": [],
   "source": [
    "data.info()"
   ]
  },
  {
   "cell_type": "code",
   "execution_count": null,
   "id": "4336c584",
   "metadata": {},
   "outputs": [],
   "source": [
    "data.nunique()"
   ]
  },
  {
   "cell_type": "markdown",
   "id": "38b76195",
   "metadata": {},
   "source": [
    "# Order Transaction Analysis:"
   ]
  },
  {
   "cell_type": "markdown",
   "id": "b603c397",
   "metadata": {},
   "source": [
    "#### This analysis delves into various aspects of order transactions to gain insights into customer behavior and transactional patterns. \n",
    "\n",
    "#### Here's a breakdown of the key attributes considered:\n",
    "\n",
    "* Delivery Fee: Understanding how delivery fees impact costs and customer behavior, including their willingness to pay for delivery.\n",
    "\n",
    "* Payment Method: Exploring customer preferences and the popularity of different payment options to inform decisions on payment processing and optimization.\n",
    "\n",
    "* Discounts and Offers: Assessing the effectiveness of promotional strategies and customer response to incentives, aiding in the evaluation of their impact on order value and profitability.\n",
    "\n",
    "* Refunds/Chargebacks: Identifying patterns in refunds and chargebacks to pinpoint order issues, evaluate customer satisfaction, and gauge the effectiveness of dispute resolution processes.\n",
    "\n",
    "\n",
    "\n",
    "\n",
    "By analyzing these attributes collectively, businesses can gain a comprehensive understanding of their order transactions, identify areas for improvement, and make data-driven decisions to enhance customer experience, optimize operations, and drive profitability."
   ]
  },
  {
   "cell_type": "code",
   "execution_count": null,
   "id": "b7f150d2",
   "metadata": {},
   "outputs": [],
   "source": [
    "categories = ['Payment Method', 'Delivery Fee', 'Discount Percentage', 'Refunds/Chargebacks']\n",
    "fig = make_subplots(\n",
    "    rows=2,\n",
    "    cols=2,\n",
    "    specs=[[{\"type\": \"domain\"} for _ in range(2)] for _ in range(2)],\n",
    "    #subplot_titles=categories,  # Set subplot titles\n",
    "    vertical_spacing=0.2,  # Adjust vertical spacing between subplots\n",
    "    horizontal_spacing=0.1,  # Adjust horizontal spacing between subplots\n",
    "    shared_yaxes=True) # Share y-axes across subplots\n",
    "\n",
    "# Loop through each category\n",
    "for i, category in enumerate(categories, start=1):\n",
    "    # Create pivot table\n",
    "    pivot_table = pd.pivot_table(data, values='Order ID', index=[category], aggfunc='count')\n",
    "    \n",
    "    # Calculate total count for percentage calculation\n",
    "    total_count = pivot_table['Order ID'].sum()\n",
    "    \n",
    "    # Iterate over pivot table rows and add pie chart trace to subplot\n",
    "    labels = []\n",
    "    for index, row in pivot_table.iterrows():\n",
    "        percentage = row['Order ID'] / total_count * 100\n",
    "        label = f\"({index})\"\n",
    "        labels.append(label)\n",
    "    \n",
    "    fig.add_trace(go.Pie(values=pivot_table['Order ID'], labels=labels,textinfo='label+percent',\n",
    "                         name=category, title=f'{category}',showlegend=False), row=(i-1)//2 + 1, col=(i-1)%2 + 1)\n",
    "\n",
    "# Update layout\n",
    "fig.update_layout(\n",
    "    title='<b>Order Transaction Analysis</b>',\n",
    "    title_x=0.45,\n",
    "    height=900,  \n",
    "    width=900)  \n",
    "\n",
    "# Show the figure\n",
    "fig.show()"
   ]
  },
  {
   "cell_type": "markdown",
   "id": "c9e8a205",
   "metadata": {},
   "source": [
    "#### Payment Method:\n",
    "* Cash on Delivery leads as the most preferred payment method with 357 orders, followed closely by Credit Card (337 orders) and Digital Wallet (306 orders). \n",
    "* This underscores the importance of offering diverse payment options to accommodate varied customer preferences.\n",
    "\n",
    "#### Delivery Fee:\n",
    "* Customers seem to accept varying delivery fees as orders are evenly spread across different fee brackets (0, 20, 30, 40, and 50 INR). \n",
    "* This suggests that adjusting delivery fee structures strategically could boost revenue without much impact on order volumes\n",
    "\n",
    "#### Discount Percentage:\n",
    "* Moderate discounts of 10.0% (233 orders) and no discounts (185 orders) are common, but deeper discounts of 50.0% (201 orders) also appeal to a substantial portion of customers, which need to reduce for profitability. \n",
    "* Tailoring discount strategies based on these preferences can help achieve promotional goals effectively.\n",
    "\n",
    "#### Refunds/Chargebacks:\n",
    "* The majority of orders (715) experience no refunds or chargebacks, signaling effective dispute resolution and high customer satisfaction levels. \n",
    "* However, a small number of orders involve refunds/chargebacks of 50, 100, and 150 INR, underscoring the need for ongoing monitoring and enhancement of customer service and order fulfillment procedures.\n",
    "\n"
   ]
  },
  {
   "cell_type": "markdown",
   "id": "85720c72",
   "metadata": {},
   "source": [
    "# Cost and Profitability Analysis:"
   ]
  },
  {
   "cell_type": "markdown",
   "id": "37db8228",
   "metadata": {},
   "source": [
    "#### For analyzing costs, we'll look at what it takes to handle each order:\n",
    "\n",
    "* Delivery Fee: The cost for delivering orders.\n",
    "* Payment Processing Fee: The charge for processing payments.\n",
    "* Discount Amount: Any discounts given on orders.\n",
    "\n",
    "We'll add up all these costs for each order to understand how much it costs the platform overall (Total Cost).\n",
    "\n",
    "The platform makes money mainly from commission fees (Revenue).\n",
    "\n",
    "To find out how much profit it's making, we'll subtract all costs (including discounts) from the commission fees earned (Profit).\n",
    "\n",
    "Now, let's dive into analyzing costs and profitability."
   ]
  },
  {
   "cell_type": "code",
   "execution_count": null,
   "id": "ee42bc8b",
   "metadata": {},
   "outputs": [],
   "source": [
    "# calculate total costs, revenue per order, profit:\n",
    "data['Total Costs'] = data['Delivery Fee'] + data['Payment Processing Fee'] + data['Discount Amount']\n",
    "data['Revenue'] = data['Commission Fee']\n",
    "data['Profit'] = data['Revenue'] - data['Total Costs']"
   ]
  },
  {
   "cell_type": "code",
   "execution_count": null,
   "id": "1493d1eb",
   "metadata": {},
   "outputs": [],
   "source": [
    "# Calculate overall metrics:\n",
    "total_orders = data.shape[0]\n",
    "total_revenue = data['Revenue'].sum()\n",
    "total_costs = data['Total Costs'].sum()\n",
    "total_profit = data['Profit'].sum()\n",
    "\n",
    "overall_metrics = {\n",
    "    \"Total Orders\": total_orders,\n",
    "    \"Total Revenue\": total_revenue,\n",
    "    \"Total Costs\": total_costs,\n",
    "    \"Total Profit\": total_profit\n",
    "}\n",
    "overall_metrics"
   ]
  },
  {
   "cell_type": "markdown",
   "id": "b060b66f",
   "metadata": {},
   "source": [
    "### Here are the key findings from the analysis of the food delivery operations:\n",
    "\n",
    "* Total Orders: 1,000\n",
    "* Total Revenue (from Commission Fees): 126,990 INR\n",
    "* Total Costs: 232,709.85 INR (includes delivery fees, payment processing fees, and discounts)\n",
    "* Total Profit: -105,719.85 INR\n",
    "\n",
    "The analysis reveals that the total costs exceed the revenue generated from commission fees, resulting in a net loss. \n",
    "\n",
    "This suggests that the current commission rates, delivery fees, and discount strategies may not be sustainable for profitability.\n",
    "\n",
    "### To visualize the distribution of costs, revenue, and profit, we'll create the following plots:\n",
    "\n",
    "* Histogram: Visualize the distribution of profits per order to see the mix of profitable and unprofitable orders.\n",
    "* Pie Chart: Show the proportion of total costs (including delivery fees, payment processing fees, and discounts).\n",
    "* Bar Chart: Compare total revenue, total costs, and total profit."
   ]
  },
  {
   "cell_type": "code",
   "execution_count": null,
   "id": "0e7a8841",
   "metadata": {},
   "outputs": [],
   "source": [
    "# Create histogram\n",
    "fig = px.histogram(data, x='Profit', histnorm='probability density', marginal='rug',\n",
    "                   labels={'Profit': 'Profit', 'count': 'Number of Orders'},opacity=0.5,\n",
    "                   title='<b>Profit Distribution per Order</b>')\n",
    "\n",
    "\n",
    "# Add vertical line for mean profit\n",
    "fig.add_vline(x=data['Profit'].mean(), line_dash=\"dash\", line_color=\"red\", \n",
    "              annotation_text=\"Mean Profit\", annotation_position=\"top left\")\n",
    "\n",
    "fig.update_layout(\n",
    "    title_x=0.5,  # Center the title horizontally\n",
    "    title_y=0.95  # Position the title closer to the top of the figure\n",
    ")\n",
    "\n",
    "# Show the plot\n",
    "fig.show()\n"
   ]
  },
  {
   "cell_type": "markdown",
   "id": "77a3d73d",
   "metadata": {},
   "source": [
    "* The histogram reveals a broad distribution of profit per order, with a significant portion of orders resulting in a loss (profits below 0).\n",
    "* The red dashed line represents the average profit, which falls into negative territory, emphasizing the overall loss-making scenario."
   ]
  },
  {
   "cell_type": "markdown",
   "id": "3493aca0",
   "metadata": {},
   "source": [
    "#### Next, let's examine the proportion of total costs:"
   ]
  },
  {
   "cell_type": "code",
   "execution_count": 13,
   "id": "4b9efb40",
   "metadata": {},
   "outputs": [
    {
     "data": {
      "application/vnd.plotly.v1+json": {
       "config": {
        "plotlyServerURL": "https://plot.ly"
       },
       "data": [
        {
         "labels": [
          "Delivery Fee",
          "Payment Processing Fee",
          "Discount Amount"
         ],
         "marker": {
          "colors": [
           "red",
           "yellow",
           "blue"
          ]
         },
         "textinfo": "percent",
         "type": "pie",
         "values": [
          28620,
          29832,
          174257.85
         ]
        }
       ],
       "layout": {
        "showlegend": true,
        "template": {
         "data": {
          "bar": [
           {
            "error_x": {
             "color": "#2a3f5f"
            },
            "error_y": {
             "color": "#2a3f5f"
            },
            "marker": {
             "line": {
              "color": "white",
              "width": 0.5
             },
             "pattern": {
              "fillmode": "overlay",
              "size": 10,
              "solidity": 0.2
             }
            },
            "type": "bar"
           }
          ],
          "barpolar": [
           {
            "marker": {
             "line": {
              "color": "white",
              "width": 0.5
             },
             "pattern": {
              "fillmode": "overlay",
              "size": 10,
              "solidity": 0.2
             }
            },
            "type": "barpolar"
           }
          ],
          "carpet": [
           {
            "aaxis": {
             "endlinecolor": "#2a3f5f",
             "gridcolor": "#C8D4E3",
             "linecolor": "#C8D4E3",
             "minorgridcolor": "#C8D4E3",
             "startlinecolor": "#2a3f5f"
            },
            "baxis": {
             "endlinecolor": "#2a3f5f",
             "gridcolor": "#C8D4E3",
             "linecolor": "#C8D4E3",
             "minorgridcolor": "#C8D4E3",
             "startlinecolor": "#2a3f5f"
            },
            "type": "carpet"
           }
          ],
          "choropleth": [
           {
            "colorbar": {
             "outlinewidth": 0,
             "ticks": ""
            },
            "type": "choropleth"
           }
          ],
          "contour": [
           {
            "colorbar": {
             "outlinewidth": 0,
             "ticks": ""
            },
            "colorscale": [
             [
              0,
              "#0d0887"
             ],
             [
              0.1111111111111111,
              "#46039f"
             ],
             [
              0.2222222222222222,
              "#7201a8"
             ],
             [
              0.3333333333333333,
              "#9c179e"
             ],
             [
              0.4444444444444444,
              "#bd3786"
             ],
             [
              0.5555555555555556,
              "#d8576b"
             ],
             [
              0.6666666666666666,
              "#ed7953"
             ],
             [
              0.7777777777777778,
              "#fb9f3a"
             ],
             [
              0.8888888888888888,
              "#fdca26"
             ],
             [
              1,
              "#f0f921"
             ]
            ],
            "type": "contour"
           }
          ],
          "contourcarpet": [
           {
            "colorbar": {
             "outlinewidth": 0,
             "ticks": ""
            },
            "type": "contourcarpet"
           }
          ],
          "heatmap": [
           {
            "colorbar": {
             "outlinewidth": 0,
             "ticks": ""
            },
            "colorscale": [
             [
              0,
              "#0d0887"
             ],
             [
              0.1111111111111111,
              "#46039f"
             ],
             [
              0.2222222222222222,
              "#7201a8"
             ],
             [
              0.3333333333333333,
              "#9c179e"
             ],
             [
              0.4444444444444444,
              "#bd3786"
             ],
             [
              0.5555555555555556,
              "#d8576b"
             ],
             [
              0.6666666666666666,
              "#ed7953"
             ],
             [
              0.7777777777777778,
              "#fb9f3a"
             ],
             [
              0.8888888888888888,
              "#fdca26"
             ],
             [
              1,
              "#f0f921"
             ]
            ],
            "type": "heatmap"
           }
          ],
          "heatmapgl": [
           {
            "colorbar": {
             "outlinewidth": 0,
             "ticks": ""
            },
            "colorscale": [
             [
              0,
              "#0d0887"
             ],
             [
              0.1111111111111111,
              "#46039f"
             ],
             [
              0.2222222222222222,
              "#7201a8"
             ],
             [
              0.3333333333333333,
              "#9c179e"
             ],
             [
              0.4444444444444444,
              "#bd3786"
             ],
             [
              0.5555555555555556,
              "#d8576b"
             ],
             [
              0.6666666666666666,
              "#ed7953"
             ],
             [
              0.7777777777777778,
              "#fb9f3a"
             ],
             [
              0.8888888888888888,
              "#fdca26"
             ],
             [
              1,
              "#f0f921"
             ]
            ],
            "type": "heatmapgl"
           }
          ],
          "histogram": [
           {
            "marker": {
             "pattern": {
              "fillmode": "overlay",
              "size": 10,
              "solidity": 0.2
             }
            },
            "type": "histogram"
           }
          ],
          "histogram2d": [
           {
            "colorbar": {
             "outlinewidth": 0,
             "ticks": ""
            },
            "colorscale": [
             [
              0,
              "#0d0887"
             ],
             [
              0.1111111111111111,
              "#46039f"
             ],
             [
              0.2222222222222222,
              "#7201a8"
             ],
             [
              0.3333333333333333,
              "#9c179e"
             ],
             [
              0.4444444444444444,
              "#bd3786"
             ],
             [
              0.5555555555555556,
              "#d8576b"
             ],
             [
              0.6666666666666666,
              "#ed7953"
             ],
             [
              0.7777777777777778,
              "#fb9f3a"
             ],
             [
              0.8888888888888888,
              "#fdca26"
             ],
             [
              1,
              "#f0f921"
             ]
            ],
            "type": "histogram2d"
           }
          ],
          "histogram2dcontour": [
           {
            "colorbar": {
             "outlinewidth": 0,
             "ticks": ""
            },
            "colorscale": [
             [
              0,
              "#0d0887"
             ],
             [
              0.1111111111111111,
              "#46039f"
             ],
             [
              0.2222222222222222,
              "#7201a8"
             ],
             [
              0.3333333333333333,
              "#9c179e"
             ],
             [
              0.4444444444444444,
              "#bd3786"
             ],
             [
              0.5555555555555556,
              "#d8576b"
             ],
             [
              0.6666666666666666,
              "#ed7953"
             ],
             [
              0.7777777777777778,
              "#fb9f3a"
             ],
             [
              0.8888888888888888,
              "#fdca26"
             ],
             [
              1,
              "#f0f921"
             ]
            ],
            "type": "histogram2dcontour"
           }
          ],
          "mesh3d": [
           {
            "colorbar": {
             "outlinewidth": 0,
             "ticks": ""
            },
            "type": "mesh3d"
           }
          ],
          "parcoords": [
           {
            "line": {
             "colorbar": {
              "outlinewidth": 0,
              "ticks": ""
             }
            },
            "type": "parcoords"
           }
          ],
          "pie": [
           {
            "automargin": true,
            "type": "pie"
           }
          ],
          "scatter": [
           {
            "fillpattern": {
             "fillmode": "overlay",
             "size": 10,
             "solidity": 0.2
            },
            "type": "scatter"
           }
          ],
          "scatter3d": [
           {
            "line": {
             "colorbar": {
              "outlinewidth": 0,
              "ticks": ""
             }
            },
            "marker": {
             "colorbar": {
              "outlinewidth": 0,
              "ticks": ""
             }
            },
            "type": "scatter3d"
           }
          ],
          "scattercarpet": [
           {
            "marker": {
             "colorbar": {
              "outlinewidth": 0,
              "ticks": ""
             }
            },
            "type": "scattercarpet"
           }
          ],
          "scattergeo": [
           {
            "marker": {
             "colorbar": {
              "outlinewidth": 0,
              "ticks": ""
             }
            },
            "type": "scattergeo"
           }
          ],
          "scattergl": [
           {
            "marker": {
             "colorbar": {
              "outlinewidth": 0,
              "ticks": ""
             }
            },
            "type": "scattergl"
           }
          ],
          "scattermapbox": [
           {
            "marker": {
             "colorbar": {
              "outlinewidth": 0,
              "ticks": ""
             }
            },
            "type": "scattermapbox"
           }
          ],
          "scatterpolar": [
           {
            "marker": {
             "colorbar": {
              "outlinewidth": 0,
              "ticks": ""
             }
            },
            "type": "scatterpolar"
           }
          ],
          "scatterpolargl": [
           {
            "marker": {
             "colorbar": {
              "outlinewidth": 0,
              "ticks": ""
             }
            },
            "type": "scatterpolargl"
           }
          ],
          "scatterternary": [
           {
            "marker": {
             "colorbar": {
              "outlinewidth": 0,
              "ticks": ""
             }
            },
            "type": "scatterternary"
           }
          ],
          "surface": [
           {
            "colorbar": {
             "outlinewidth": 0,
             "ticks": ""
            },
            "colorscale": [
             [
              0,
              "#0d0887"
             ],
             [
              0.1111111111111111,
              "#46039f"
             ],
             [
              0.2222222222222222,
              "#7201a8"
             ],
             [
              0.3333333333333333,
              "#9c179e"
             ],
             [
              0.4444444444444444,
              "#bd3786"
             ],
             [
              0.5555555555555556,
              "#d8576b"
             ],
             [
              0.6666666666666666,
              "#ed7953"
             ],
             [
              0.7777777777777778,
              "#fb9f3a"
             ],
             [
              0.8888888888888888,
              "#fdca26"
             ],
             [
              1,
              "#f0f921"
             ]
            ],
            "type": "surface"
           }
          ],
          "table": [
           {
            "cells": {
             "fill": {
              "color": "#EBF0F8"
             },
             "line": {
              "color": "white"
             }
            },
            "header": {
             "fill": {
              "color": "#C8D4E3"
             },
             "line": {
              "color": "white"
             }
            },
            "type": "table"
           }
          ]
         },
         "layout": {
          "annotationdefaults": {
           "arrowcolor": "#2a3f5f",
           "arrowhead": 0,
           "arrowwidth": 1
          },
          "autotypenumbers": "strict",
          "coloraxis": {
           "colorbar": {
            "outlinewidth": 0,
            "ticks": ""
           }
          },
          "colorscale": {
           "diverging": [
            [
             0,
             "#8e0152"
            ],
            [
             0.1,
             "#c51b7d"
            ],
            [
             0.2,
             "#de77ae"
            ],
            [
             0.3,
             "#f1b6da"
            ],
            [
             0.4,
             "#fde0ef"
            ],
            [
             0.5,
             "#f7f7f7"
            ],
            [
             0.6,
             "#e6f5d0"
            ],
            [
             0.7,
             "#b8e186"
            ],
            [
             0.8,
             "#7fbc41"
            ],
            [
             0.9,
             "#4d9221"
            ],
            [
             1,
             "#276419"
            ]
           ],
           "sequential": [
            [
             0,
             "#0d0887"
            ],
            [
             0.1111111111111111,
             "#46039f"
            ],
            [
             0.2222222222222222,
             "#7201a8"
            ],
            [
             0.3333333333333333,
             "#9c179e"
            ],
            [
             0.4444444444444444,
             "#bd3786"
            ],
            [
             0.5555555555555556,
             "#d8576b"
            ],
            [
             0.6666666666666666,
             "#ed7953"
            ],
            [
             0.7777777777777778,
             "#fb9f3a"
            ],
            [
             0.8888888888888888,
             "#fdca26"
            ],
            [
             1,
             "#f0f921"
            ]
           ],
           "sequentialminus": [
            [
             0,
             "#0d0887"
            ],
            [
             0.1111111111111111,
             "#46039f"
            ],
            [
             0.2222222222222222,
             "#7201a8"
            ],
            [
             0.3333333333333333,
             "#9c179e"
            ],
            [
             0.4444444444444444,
             "#bd3786"
            ],
            [
             0.5555555555555556,
             "#d8576b"
            ],
            [
             0.6666666666666666,
             "#ed7953"
            ],
            [
             0.7777777777777778,
             "#fb9f3a"
            ],
            [
             0.8888888888888888,
             "#fdca26"
            ],
            [
             1,
             "#f0f921"
            ]
           ]
          },
          "colorway": [
           "#636efa",
           "#EF553B",
           "#00cc96",
           "#ab63fa",
           "#FFA15A",
           "#19d3f3",
           "#FF6692",
           "#B6E880",
           "#FF97FF",
           "#FECB52"
          ],
          "font": {
           "color": "#2a3f5f"
          },
          "geo": {
           "bgcolor": "white",
           "lakecolor": "white",
           "landcolor": "white",
           "showlakes": true,
           "showland": true,
           "subunitcolor": "#C8D4E3"
          },
          "hoverlabel": {
           "align": "left"
          },
          "hovermode": "closest",
          "mapbox": {
           "style": "light"
          },
          "paper_bgcolor": "white",
          "plot_bgcolor": "white",
          "polar": {
           "angularaxis": {
            "gridcolor": "#EBF0F8",
            "linecolor": "#EBF0F8",
            "ticks": ""
           },
           "bgcolor": "white",
           "radialaxis": {
            "gridcolor": "#EBF0F8",
            "linecolor": "#EBF0F8",
            "ticks": ""
           }
          },
          "scene": {
           "xaxis": {
            "backgroundcolor": "white",
            "gridcolor": "#DFE8F3",
            "gridwidth": 2,
            "linecolor": "#EBF0F8",
            "showbackground": true,
            "ticks": "",
            "zerolinecolor": "#EBF0F8"
           },
           "yaxis": {
            "backgroundcolor": "white",
            "gridcolor": "#DFE8F3",
            "gridwidth": 2,
            "linecolor": "#EBF0F8",
            "showbackground": true,
            "ticks": "",
            "zerolinecolor": "#EBF0F8"
           },
           "zaxis": {
            "backgroundcolor": "white",
            "gridcolor": "#DFE8F3",
            "gridwidth": 2,
            "linecolor": "#EBF0F8",
            "showbackground": true,
            "ticks": "",
            "zerolinecolor": "#EBF0F8"
           }
          },
          "shapedefaults": {
           "line": {
            "color": "#2a3f5f"
           }
          },
          "ternary": {
           "aaxis": {
            "gridcolor": "#DFE8F3",
            "linecolor": "#A2B1C6",
            "ticks": ""
           },
           "baxis": {
            "gridcolor": "#DFE8F3",
            "linecolor": "#A2B1C6",
            "ticks": ""
           },
           "bgcolor": "white",
           "caxis": {
            "gridcolor": "#DFE8F3",
            "linecolor": "#A2B1C6",
            "ticks": ""
           }
          },
          "title": {
           "x": 0.05
          },
          "xaxis": {
           "automargin": true,
           "gridcolor": "#EBF0F8",
           "linecolor": "#EBF0F8",
           "ticks": "",
           "title": {
            "standoff": 15
           },
           "zerolinecolor": "#EBF0F8",
           "zerolinewidth": 2
          },
          "yaxis": {
           "automargin": true,
           "gridcolor": "#EBF0F8",
           "linecolor": "#EBF0F8",
           "ticks": "",
           "title": {
            "standoff": 15
           },
           "zerolinecolor": "#EBF0F8",
           "zerolinewidth": 2
          }
         }
        },
        "title": {
         "text": "<b>Proportion of Total Costs in Food Delivery</b>",
         "x": 0.45
        }
       }
      },
      "text/html": [
       "<div>                            <div id=\"ad9f8571-059b-48ed-b573-898c7f33504b\" class=\"plotly-graph-div\" style=\"height:525px; width:100%;\"></div>            <script type=\"text/javascript\">                require([\"plotly\"], function(Plotly) {                    window.PLOTLYENV=window.PLOTLYENV || {};                                    if (document.getElementById(\"ad9f8571-059b-48ed-b573-898c7f33504b\")) {                    Plotly.newPlot(                        \"ad9f8571-059b-48ed-b573-898c7f33504b\",                        [{\"labels\":[\"Delivery Fee\",\"Payment Processing Fee\",\"Discount Amount\"],\"marker\":{\"colors\":[\"red\",\"yellow\",\"blue\"]},\"textinfo\":\"percent\",\"values\":[28620.0,29832.0,174257.85],\"type\":\"pie\"}],                        {\"template\":{\"data\":{\"histogram2dcontour\":[{\"type\":\"histogram2dcontour\",\"colorbar\":{\"outlinewidth\":0,\"ticks\":\"\"},\"colorscale\":[[0.0,\"#0d0887\"],[0.1111111111111111,\"#46039f\"],[0.2222222222222222,\"#7201a8\"],[0.3333333333333333,\"#9c179e\"],[0.4444444444444444,\"#bd3786\"],[0.5555555555555556,\"#d8576b\"],[0.6666666666666666,\"#ed7953\"],[0.7777777777777778,\"#fb9f3a\"],[0.8888888888888888,\"#fdca26\"],[1.0,\"#f0f921\"]]}],\"choropleth\":[{\"type\":\"choropleth\",\"colorbar\":{\"outlinewidth\":0,\"ticks\":\"\"}}],\"histogram2d\":[{\"type\":\"histogram2d\",\"colorbar\":{\"outlinewidth\":0,\"ticks\":\"\"},\"colorscale\":[[0.0,\"#0d0887\"],[0.1111111111111111,\"#46039f\"],[0.2222222222222222,\"#7201a8\"],[0.3333333333333333,\"#9c179e\"],[0.4444444444444444,\"#bd3786\"],[0.5555555555555556,\"#d8576b\"],[0.6666666666666666,\"#ed7953\"],[0.7777777777777778,\"#fb9f3a\"],[0.8888888888888888,\"#fdca26\"],[1.0,\"#f0f921\"]]}],\"heatmap\":[{\"type\":\"heatmap\",\"colorbar\":{\"outlinewidth\":0,\"ticks\":\"\"},\"colorscale\":[[0.0,\"#0d0887\"],[0.1111111111111111,\"#46039f\"],[0.2222222222222222,\"#7201a8\"],[0.3333333333333333,\"#9c179e\"],[0.4444444444444444,\"#bd3786\"],[0.5555555555555556,\"#d8576b\"],[0.6666666666666666,\"#ed7953\"],[0.7777777777777778,\"#fb9f3a\"],[0.8888888888888888,\"#fdca26\"],[1.0,\"#f0f921\"]]}],\"heatmapgl\":[{\"type\":\"heatmapgl\",\"colorbar\":{\"outlinewidth\":0,\"ticks\":\"\"},\"colorscale\":[[0.0,\"#0d0887\"],[0.1111111111111111,\"#46039f\"],[0.2222222222222222,\"#7201a8\"],[0.3333333333333333,\"#9c179e\"],[0.4444444444444444,\"#bd3786\"],[0.5555555555555556,\"#d8576b\"],[0.6666666666666666,\"#ed7953\"],[0.7777777777777778,\"#fb9f3a\"],[0.8888888888888888,\"#fdca26\"],[1.0,\"#f0f921\"]]}],\"contourcarpet\":[{\"type\":\"contourcarpet\",\"colorbar\":{\"outlinewidth\":0,\"ticks\":\"\"}}],\"contour\":[{\"type\":\"contour\",\"colorbar\":{\"outlinewidth\":0,\"ticks\":\"\"},\"colorscale\":[[0.0,\"#0d0887\"],[0.1111111111111111,\"#46039f\"],[0.2222222222222222,\"#7201a8\"],[0.3333333333333333,\"#9c179e\"],[0.4444444444444444,\"#bd3786\"],[0.5555555555555556,\"#d8576b\"],[0.6666666666666666,\"#ed7953\"],[0.7777777777777778,\"#fb9f3a\"],[0.8888888888888888,\"#fdca26\"],[1.0,\"#f0f921\"]]}],\"surface\":[{\"type\":\"surface\",\"colorbar\":{\"outlinewidth\":0,\"ticks\":\"\"},\"colorscale\":[[0.0,\"#0d0887\"],[0.1111111111111111,\"#46039f\"],[0.2222222222222222,\"#7201a8\"],[0.3333333333333333,\"#9c179e\"],[0.4444444444444444,\"#bd3786\"],[0.5555555555555556,\"#d8576b\"],[0.6666666666666666,\"#ed7953\"],[0.7777777777777778,\"#fb9f3a\"],[0.8888888888888888,\"#fdca26\"],[1.0,\"#f0f921\"]]}],\"mesh3d\":[{\"type\":\"mesh3d\",\"colorbar\":{\"outlinewidth\":0,\"ticks\":\"\"}}],\"scatter\":[{\"fillpattern\":{\"fillmode\":\"overlay\",\"size\":10,\"solidity\":0.2},\"type\":\"scatter\"}],\"parcoords\":[{\"type\":\"parcoords\",\"line\":{\"colorbar\":{\"outlinewidth\":0,\"ticks\":\"\"}}}],\"scatterpolargl\":[{\"type\":\"scatterpolargl\",\"marker\":{\"colorbar\":{\"outlinewidth\":0,\"ticks\":\"\"}}}],\"bar\":[{\"error_x\":{\"color\":\"#2a3f5f\"},\"error_y\":{\"color\":\"#2a3f5f\"},\"marker\":{\"line\":{\"color\":\"white\",\"width\":0.5},\"pattern\":{\"fillmode\":\"overlay\",\"size\":10,\"solidity\":0.2}},\"type\":\"bar\"}],\"scattergeo\":[{\"type\":\"scattergeo\",\"marker\":{\"colorbar\":{\"outlinewidth\":0,\"ticks\":\"\"}}}],\"scatterpolar\":[{\"type\":\"scatterpolar\",\"marker\":{\"colorbar\":{\"outlinewidth\":0,\"ticks\":\"\"}}}],\"histogram\":[{\"marker\":{\"pattern\":{\"fillmode\":\"overlay\",\"size\":10,\"solidity\":0.2}},\"type\":\"histogram\"}],\"scattergl\":[{\"type\":\"scattergl\",\"marker\":{\"colorbar\":{\"outlinewidth\":0,\"ticks\":\"\"}}}],\"scatter3d\":[{\"type\":\"scatter3d\",\"line\":{\"colorbar\":{\"outlinewidth\":0,\"ticks\":\"\"}},\"marker\":{\"colorbar\":{\"outlinewidth\":0,\"ticks\":\"\"}}}],\"scattermapbox\":[{\"type\":\"scattermapbox\",\"marker\":{\"colorbar\":{\"outlinewidth\":0,\"ticks\":\"\"}}}],\"scatterternary\":[{\"type\":\"scatterternary\",\"marker\":{\"colorbar\":{\"outlinewidth\":0,\"ticks\":\"\"}}}],\"scattercarpet\":[{\"type\":\"scattercarpet\",\"marker\":{\"colorbar\":{\"outlinewidth\":0,\"ticks\":\"\"}}}],\"carpet\":[{\"aaxis\":{\"endlinecolor\":\"#2a3f5f\",\"gridcolor\":\"#C8D4E3\",\"linecolor\":\"#C8D4E3\",\"minorgridcolor\":\"#C8D4E3\",\"startlinecolor\":\"#2a3f5f\"},\"baxis\":{\"endlinecolor\":\"#2a3f5f\",\"gridcolor\":\"#C8D4E3\",\"linecolor\":\"#C8D4E3\",\"minorgridcolor\":\"#C8D4E3\",\"startlinecolor\":\"#2a3f5f\"},\"type\":\"carpet\"}],\"table\":[{\"cells\":{\"fill\":{\"color\":\"#EBF0F8\"},\"line\":{\"color\":\"white\"}},\"header\":{\"fill\":{\"color\":\"#C8D4E3\"},\"line\":{\"color\":\"white\"}},\"type\":\"table\"}],\"barpolar\":[{\"marker\":{\"line\":{\"color\":\"white\",\"width\":0.5},\"pattern\":{\"fillmode\":\"overlay\",\"size\":10,\"solidity\":0.2}},\"type\":\"barpolar\"}],\"pie\":[{\"automargin\":true,\"type\":\"pie\"}]},\"layout\":{\"autotypenumbers\":\"strict\",\"colorway\":[\"#636efa\",\"#EF553B\",\"#00cc96\",\"#ab63fa\",\"#FFA15A\",\"#19d3f3\",\"#FF6692\",\"#B6E880\",\"#FF97FF\",\"#FECB52\"],\"font\":{\"color\":\"#2a3f5f\"},\"hovermode\":\"closest\",\"hoverlabel\":{\"align\":\"left\"},\"paper_bgcolor\":\"white\",\"plot_bgcolor\":\"white\",\"polar\":{\"bgcolor\":\"white\",\"angularaxis\":{\"gridcolor\":\"#EBF0F8\",\"linecolor\":\"#EBF0F8\",\"ticks\":\"\"},\"radialaxis\":{\"gridcolor\":\"#EBF0F8\",\"linecolor\":\"#EBF0F8\",\"ticks\":\"\"}},\"ternary\":{\"bgcolor\":\"white\",\"aaxis\":{\"gridcolor\":\"#DFE8F3\",\"linecolor\":\"#A2B1C6\",\"ticks\":\"\"},\"baxis\":{\"gridcolor\":\"#DFE8F3\",\"linecolor\":\"#A2B1C6\",\"ticks\":\"\"},\"caxis\":{\"gridcolor\":\"#DFE8F3\",\"linecolor\":\"#A2B1C6\",\"ticks\":\"\"}},\"coloraxis\":{\"colorbar\":{\"outlinewidth\":0,\"ticks\":\"\"}},\"colorscale\":{\"sequential\":[[0.0,\"#0d0887\"],[0.1111111111111111,\"#46039f\"],[0.2222222222222222,\"#7201a8\"],[0.3333333333333333,\"#9c179e\"],[0.4444444444444444,\"#bd3786\"],[0.5555555555555556,\"#d8576b\"],[0.6666666666666666,\"#ed7953\"],[0.7777777777777778,\"#fb9f3a\"],[0.8888888888888888,\"#fdca26\"],[1.0,\"#f0f921\"]],\"sequentialminus\":[[0.0,\"#0d0887\"],[0.1111111111111111,\"#46039f\"],[0.2222222222222222,\"#7201a8\"],[0.3333333333333333,\"#9c179e\"],[0.4444444444444444,\"#bd3786\"],[0.5555555555555556,\"#d8576b\"],[0.6666666666666666,\"#ed7953\"],[0.7777777777777778,\"#fb9f3a\"],[0.8888888888888888,\"#fdca26\"],[1.0,\"#f0f921\"]],\"diverging\":[[0,\"#8e0152\"],[0.1,\"#c51b7d\"],[0.2,\"#de77ae\"],[0.3,\"#f1b6da\"],[0.4,\"#fde0ef\"],[0.5,\"#f7f7f7\"],[0.6,\"#e6f5d0\"],[0.7,\"#b8e186\"],[0.8,\"#7fbc41\"],[0.9,\"#4d9221\"],[1,\"#276419\"]]},\"xaxis\":{\"gridcolor\":\"#EBF0F8\",\"linecolor\":\"#EBF0F8\",\"ticks\":\"\",\"title\":{\"standoff\":15},\"zerolinecolor\":\"#EBF0F8\",\"automargin\":true,\"zerolinewidth\":2},\"yaxis\":{\"gridcolor\":\"#EBF0F8\",\"linecolor\":\"#EBF0F8\",\"ticks\":\"\",\"title\":{\"standoff\":15},\"zerolinecolor\":\"#EBF0F8\",\"automargin\":true,\"zerolinewidth\":2},\"scene\":{\"xaxis\":{\"backgroundcolor\":\"white\",\"gridcolor\":\"#DFE8F3\",\"linecolor\":\"#EBF0F8\",\"showbackground\":true,\"ticks\":\"\",\"zerolinecolor\":\"#EBF0F8\",\"gridwidth\":2},\"yaxis\":{\"backgroundcolor\":\"white\",\"gridcolor\":\"#DFE8F3\",\"linecolor\":\"#EBF0F8\",\"showbackground\":true,\"ticks\":\"\",\"zerolinecolor\":\"#EBF0F8\",\"gridwidth\":2},\"zaxis\":{\"backgroundcolor\":\"white\",\"gridcolor\":\"#DFE8F3\",\"linecolor\":\"#EBF0F8\",\"showbackground\":true,\"ticks\":\"\",\"zerolinecolor\":\"#EBF0F8\",\"gridwidth\":2}},\"shapedefaults\":{\"line\":{\"color\":\"#2a3f5f\"}},\"annotationdefaults\":{\"arrowcolor\":\"#2a3f5f\",\"arrowhead\":0,\"arrowwidth\":1},\"geo\":{\"bgcolor\":\"white\",\"landcolor\":\"white\",\"subunitcolor\":\"#C8D4E3\",\"showland\":true,\"showlakes\":true,\"lakecolor\":\"white\"},\"title\":{\"x\":0.05},\"mapbox\":{\"style\":\"light\"}}},\"title\":{\"text\":\"<b>Proportion of Total Costs in Food Delivery</b>\",\"x\":0.45},\"showlegend\":true},                        {\"responsive\": true}                    ).then(function(){\n",
       "                            \n",
       "var gd = document.getElementById('ad9f8571-059b-48ed-b573-898c7f33504b');\n",
       "var x = new MutationObserver(function (mutations, observer) {{\n",
       "        var display = window.getComputedStyle(gd).display;\n",
       "        if (!display || display === 'none') {{\n",
       "            console.log([gd, 'removed!']);\n",
       "            Plotly.purge(gd);\n",
       "            observer.disconnect();\n",
       "        }}\n",
       "}});\n",
       "\n",
       "// Listen for the removal of the full notebook cells\n",
       "var notebookContainer = gd.closest('#notebook-container');\n",
       "if (notebookContainer) {{\n",
       "    x.observe(notebookContainer, {childList: true});\n",
       "}}\n",
       "\n",
       "// Listen for the clearing of the current output cell\n",
       "var outputEl = gd.closest('.output');\n",
       "if (outputEl) {{\n",
       "    x.observe(outputEl, {childList: true});\n",
       "}}\n",
       "\n",
       "                        })                };                });            </script>        </div>"
      ]
     },
     "metadata": {},
     "output_type": "display_data"
    }
   ],
   "source": [
    "# Calculate total costs breakdown\n",
    "costs_breakdown = data[['Delivery Fee', 'Payment Processing Fee', 'Discount Amount']].sum()\n",
    "\n",
    "# Create pie chart\n",
    "fig = go.Figure(data=[go.Pie(labels=costs_breakdown.index, values=costs_breakdown.values, \n",
    "                             textinfo='percent',\n",
    "                             marker=dict(colors=['red', 'yellow', 'blue']))])\n",
    "\n",
    "# Update layout\n",
    "fig.update_layout(title='<b>Proportion of Total Costs in Food Delivery</b>', \n",
    "                  title_x=0.45,  # Title centered horizontally\n",
    "                  showlegend=True)\n",
    "\n",
    "# Show the plot\n",
    "fig.show()"
   ]
  },
  {
   "cell_type": "markdown",
   "id": "7b5a75b3",
   "metadata": {},
   "source": [
    "* Expense Allocation: A significant portion of the total costs is attributed to payment processing fees. This indicates the importance of considering payment processing costs in overall financial planning and management.\n",
    "\n",
    "* Delivery Costs: The delivery fee amounts representing another substantial expense. Understanding and optimizing delivery costs can help streamline operations and improve cost efficiency.\n",
    "\n",
    "* Discount Impact: The discount amount reflects the value of discounts applied, resulting in a reduction in total costs. While discounts can help attract customers and drive sales, it's essential to evaluate their impact on profitability and revenue generation.\n",
    "\n",
    "* Cost Management: Analyzing cost breakdowns allows businesses to identify areas for cost optimization and efficiency improvements. \n",
    "\n",
    "* By monitoring and controlling expenses related to delivery and payment processing, businesses can enhance their financial performance and profitability."
   ]
  },
  {
   "cell_type": "markdown",
   "id": "0be2bcbe",
   "metadata": {},
   "source": [
    "#### Now, let's compare total revenue, total costs, and total profit (net loss in our case):"
   ]
  },
  {
   "cell_type": "code",
   "execution_count": 14,
   "id": "883f7540",
   "metadata": {},
   "outputs": [
    {
     "data": {
      "application/vnd.plotly.v1+json": {
       "config": {
        "plotlyServerURL": "https://plot.ly"
       },
       "data": [
        {
         "marker": {
          "color": [
           "green",
           "yellow",
           "red"
          ]
         },
         "type": "bar",
         "x": [
          "Total Revenue",
          "Total Costs",
          "Total Profit"
         ],
         "y": [
          126990,
          232709.84999999998,
          -105719.85
         ]
        }
       ],
       "layout": {
        "template": {
         "data": {
          "bar": [
           {
            "error_x": {
             "color": "#2a3f5f"
            },
            "error_y": {
             "color": "#2a3f5f"
            },
            "marker": {
             "line": {
              "color": "white",
              "width": 0.5
             },
             "pattern": {
              "fillmode": "overlay",
              "size": 10,
              "solidity": 0.2
             }
            },
            "type": "bar"
           }
          ],
          "barpolar": [
           {
            "marker": {
             "line": {
              "color": "white",
              "width": 0.5
             },
             "pattern": {
              "fillmode": "overlay",
              "size": 10,
              "solidity": 0.2
             }
            },
            "type": "barpolar"
           }
          ],
          "carpet": [
           {
            "aaxis": {
             "endlinecolor": "#2a3f5f",
             "gridcolor": "#C8D4E3",
             "linecolor": "#C8D4E3",
             "minorgridcolor": "#C8D4E3",
             "startlinecolor": "#2a3f5f"
            },
            "baxis": {
             "endlinecolor": "#2a3f5f",
             "gridcolor": "#C8D4E3",
             "linecolor": "#C8D4E3",
             "minorgridcolor": "#C8D4E3",
             "startlinecolor": "#2a3f5f"
            },
            "type": "carpet"
           }
          ],
          "choropleth": [
           {
            "colorbar": {
             "outlinewidth": 0,
             "ticks": ""
            },
            "type": "choropleth"
           }
          ],
          "contour": [
           {
            "colorbar": {
             "outlinewidth": 0,
             "ticks": ""
            },
            "colorscale": [
             [
              0,
              "#0d0887"
             ],
             [
              0.1111111111111111,
              "#46039f"
             ],
             [
              0.2222222222222222,
              "#7201a8"
             ],
             [
              0.3333333333333333,
              "#9c179e"
             ],
             [
              0.4444444444444444,
              "#bd3786"
             ],
             [
              0.5555555555555556,
              "#d8576b"
             ],
             [
              0.6666666666666666,
              "#ed7953"
             ],
             [
              0.7777777777777778,
              "#fb9f3a"
             ],
             [
              0.8888888888888888,
              "#fdca26"
             ],
             [
              1,
              "#f0f921"
             ]
            ],
            "type": "contour"
           }
          ],
          "contourcarpet": [
           {
            "colorbar": {
             "outlinewidth": 0,
             "ticks": ""
            },
            "type": "contourcarpet"
           }
          ],
          "heatmap": [
           {
            "colorbar": {
             "outlinewidth": 0,
             "ticks": ""
            },
            "colorscale": [
             [
              0,
              "#0d0887"
             ],
             [
              0.1111111111111111,
              "#46039f"
             ],
             [
              0.2222222222222222,
              "#7201a8"
             ],
             [
              0.3333333333333333,
              "#9c179e"
             ],
             [
              0.4444444444444444,
              "#bd3786"
             ],
             [
              0.5555555555555556,
              "#d8576b"
             ],
             [
              0.6666666666666666,
              "#ed7953"
             ],
             [
              0.7777777777777778,
              "#fb9f3a"
             ],
             [
              0.8888888888888888,
              "#fdca26"
             ],
             [
              1,
              "#f0f921"
             ]
            ],
            "type": "heatmap"
           }
          ],
          "heatmapgl": [
           {
            "colorbar": {
             "outlinewidth": 0,
             "ticks": ""
            },
            "colorscale": [
             [
              0,
              "#0d0887"
             ],
             [
              0.1111111111111111,
              "#46039f"
             ],
             [
              0.2222222222222222,
              "#7201a8"
             ],
             [
              0.3333333333333333,
              "#9c179e"
             ],
             [
              0.4444444444444444,
              "#bd3786"
             ],
             [
              0.5555555555555556,
              "#d8576b"
             ],
             [
              0.6666666666666666,
              "#ed7953"
             ],
             [
              0.7777777777777778,
              "#fb9f3a"
             ],
             [
              0.8888888888888888,
              "#fdca26"
             ],
             [
              1,
              "#f0f921"
             ]
            ],
            "type": "heatmapgl"
           }
          ],
          "histogram": [
           {
            "marker": {
             "pattern": {
              "fillmode": "overlay",
              "size": 10,
              "solidity": 0.2
             }
            },
            "type": "histogram"
           }
          ],
          "histogram2d": [
           {
            "colorbar": {
             "outlinewidth": 0,
             "ticks": ""
            },
            "colorscale": [
             [
              0,
              "#0d0887"
             ],
             [
              0.1111111111111111,
              "#46039f"
             ],
             [
              0.2222222222222222,
              "#7201a8"
             ],
             [
              0.3333333333333333,
              "#9c179e"
             ],
             [
              0.4444444444444444,
              "#bd3786"
             ],
             [
              0.5555555555555556,
              "#d8576b"
             ],
             [
              0.6666666666666666,
              "#ed7953"
             ],
             [
              0.7777777777777778,
              "#fb9f3a"
             ],
             [
              0.8888888888888888,
              "#fdca26"
             ],
             [
              1,
              "#f0f921"
             ]
            ],
            "type": "histogram2d"
           }
          ],
          "histogram2dcontour": [
           {
            "colorbar": {
             "outlinewidth": 0,
             "ticks": ""
            },
            "colorscale": [
             [
              0,
              "#0d0887"
             ],
             [
              0.1111111111111111,
              "#46039f"
             ],
             [
              0.2222222222222222,
              "#7201a8"
             ],
             [
              0.3333333333333333,
              "#9c179e"
             ],
             [
              0.4444444444444444,
              "#bd3786"
             ],
             [
              0.5555555555555556,
              "#d8576b"
             ],
             [
              0.6666666666666666,
              "#ed7953"
             ],
             [
              0.7777777777777778,
              "#fb9f3a"
             ],
             [
              0.8888888888888888,
              "#fdca26"
             ],
             [
              1,
              "#f0f921"
             ]
            ],
            "type": "histogram2dcontour"
           }
          ],
          "mesh3d": [
           {
            "colorbar": {
             "outlinewidth": 0,
             "ticks": ""
            },
            "type": "mesh3d"
           }
          ],
          "parcoords": [
           {
            "line": {
             "colorbar": {
              "outlinewidth": 0,
              "ticks": ""
             }
            },
            "type": "parcoords"
           }
          ],
          "pie": [
           {
            "automargin": true,
            "type": "pie"
           }
          ],
          "scatter": [
           {
            "fillpattern": {
             "fillmode": "overlay",
             "size": 10,
             "solidity": 0.2
            },
            "type": "scatter"
           }
          ],
          "scatter3d": [
           {
            "line": {
             "colorbar": {
              "outlinewidth": 0,
              "ticks": ""
             }
            },
            "marker": {
             "colorbar": {
              "outlinewidth": 0,
              "ticks": ""
             }
            },
            "type": "scatter3d"
           }
          ],
          "scattercarpet": [
           {
            "marker": {
             "colorbar": {
              "outlinewidth": 0,
              "ticks": ""
             }
            },
            "type": "scattercarpet"
           }
          ],
          "scattergeo": [
           {
            "marker": {
             "colorbar": {
              "outlinewidth": 0,
              "ticks": ""
             }
            },
            "type": "scattergeo"
           }
          ],
          "scattergl": [
           {
            "marker": {
             "colorbar": {
              "outlinewidth": 0,
              "ticks": ""
             }
            },
            "type": "scattergl"
           }
          ],
          "scattermapbox": [
           {
            "marker": {
             "colorbar": {
              "outlinewidth": 0,
              "ticks": ""
             }
            },
            "type": "scattermapbox"
           }
          ],
          "scatterpolar": [
           {
            "marker": {
             "colorbar": {
              "outlinewidth": 0,
              "ticks": ""
             }
            },
            "type": "scatterpolar"
           }
          ],
          "scatterpolargl": [
           {
            "marker": {
             "colorbar": {
              "outlinewidth": 0,
              "ticks": ""
             }
            },
            "type": "scatterpolargl"
           }
          ],
          "scatterternary": [
           {
            "marker": {
             "colorbar": {
              "outlinewidth": 0,
              "ticks": ""
             }
            },
            "type": "scatterternary"
           }
          ],
          "surface": [
           {
            "colorbar": {
             "outlinewidth": 0,
             "ticks": ""
            },
            "colorscale": [
             [
              0,
              "#0d0887"
             ],
             [
              0.1111111111111111,
              "#46039f"
             ],
             [
              0.2222222222222222,
              "#7201a8"
             ],
             [
              0.3333333333333333,
              "#9c179e"
             ],
             [
              0.4444444444444444,
              "#bd3786"
             ],
             [
              0.5555555555555556,
              "#d8576b"
             ],
             [
              0.6666666666666666,
              "#ed7953"
             ],
             [
              0.7777777777777778,
              "#fb9f3a"
             ],
             [
              0.8888888888888888,
              "#fdca26"
             ],
             [
              1,
              "#f0f921"
             ]
            ],
            "type": "surface"
           }
          ],
          "table": [
           {
            "cells": {
             "fill": {
              "color": "#EBF0F8"
             },
             "line": {
              "color": "white"
             }
            },
            "header": {
             "fill": {
              "color": "#C8D4E3"
             },
             "line": {
              "color": "white"
             }
            },
            "type": "table"
           }
          ]
         },
         "layout": {
          "annotationdefaults": {
           "arrowcolor": "#2a3f5f",
           "arrowhead": 0,
           "arrowwidth": 1
          },
          "autotypenumbers": "strict",
          "coloraxis": {
           "colorbar": {
            "outlinewidth": 0,
            "ticks": ""
           }
          },
          "colorscale": {
           "diverging": [
            [
             0,
             "#8e0152"
            ],
            [
             0.1,
             "#c51b7d"
            ],
            [
             0.2,
             "#de77ae"
            ],
            [
             0.3,
             "#f1b6da"
            ],
            [
             0.4,
             "#fde0ef"
            ],
            [
             0.5,
             "#f7f7f7"
            ],
            [
             0.6,
             "#e6f5d0"
            ],
            [
             0.7,
             "#b8e186"
            ],
            [
             0.8,
             "#7fbc41"
            ],
            [
             0.9,
             "#4d9221"
            ],
            [
             1,
             "#276419"
            ]
           ],
           "sequential": [
            [
             0,
             "#0d0887"
            ],
            [
             0.1111111111111111,
             "#46039f"
            ],
            [
             0.2222222222222222,
             "#7201a8"
            ],
            [
             0.3333333333333333,
             "#9c179e"
            ],
            [
             0.4444444444444444,
             "#bd3786"
            ],
            [
             0.5555555555555556,
             "#d8576b"
            ],
            [
             0.6666666666666666,
             "#ed7953"
            ],
            [
             0.7777777777777778,
             "#fb9f3a"
            ],
            [
             0.8888888888888888,
             "#fdca26"
            ],
            [
             1,
             "#f0f921"
            ]
           ],
           "sequentialminus": [
            [
             0,
             "#0d0887"
            ],
            [
             0.1111111111111111,
             "#46039f"
            ],
            [
             0.2222222222222222,
             "#7201a8"
            ],
            [
             0.3333333333333333,
             "#9c179e"
            ],
            [
             0.4444444444444444,
             "#bd3786"
            ],
            [
             0.5555555555555556,
             "#d8576b"
            ],
            [
             0.6666666666666666,
             "#ed7953"
            ],
            [
             0.7777777777777778,
             "#fb9f3a"
            ],
            [
             0.8888888888888888,
             "#fdca26"
            ],
            [
             1,
             "#f0f921"
            ]
           ]
          },
          "colorway": [
           "#636efa",
           "#EF553B",
           "#00cc96",
           "#ab63fa",
           "#FFA15A",
           "#19d3f3",
           "#FF6692",
           "#B6E880",
           "#FF97FF",
           "#FECB52"
          ],
          "font": {
           "color": "#2a3f5f"
          },
          "geo": {
           "bgcolor": "white",
           "lakecolor": "white",
           "landcolor": "white",
           "showlakes": true,
           "showland": true,
           "subunitcolor": "#C8D4E3"
          },
          "hoverlabel": {
           "align": "left"
          },
          "hovermode": "closest",
          "mapbox": {
           "style": "light"
          },
          "paper_bgcolor": "white",
          "plot_bgcolor": "white",
          "polar": {
           "angularaxis": {
            "gridcolor": "#EBF0F8",
            "linecolor": "#EBF0F8",
            "ticks": ""
           },
           "bgcolor": "white",
           "radialaxis": {
            "gridcolor": "#EBF0F8",
            "linecolor": "#EBF0F8",
            "ticks": ""
           }
          },
          "scene": {
           "xaxis": {
            "backgroundcolor": "white",
            "gridcolor": "#DFE8F3",
            "gridwidth": 2,
            "linecolor": "#EBF0F8",
            "showbackground": true,
            "ticks": "",
            "zerolinecolor": "#EBF0F8"
           },
           "yaxis": {
            "backgroundcolor": "white",
            "gridcolor": "#DFE8F3",
            "gridwidth": 2,
            "linecolor": "#EBF0F8",
            "showbackground": true,
            "ticks": "",
            "zerolinecolor": "#EBF0F8"
           },
           "zaxis": {
            "backgroundcolor": "white",
            "gridcolor": "#DFE8F3",
            "gridwidth": 2,
            "linecolor": "#EBF0F8",
            "showbackground": true,
            "ticks": "",
            "zerolinecolor": "#EBF0F8"
           }
          },
          "shapedefaults": {
           "line": {
            "color": "#2a3f5f"
           }
          },
          "ternary": {
           "aaxis": {
            "gridcolor": "#DFE8F3",
            "linecolor": "#A2B1C6",
            "ticks": ""
           },
           "baxis": {
            "gridcolor": "#DFE8F3",
            "linecolor": "#A2B1C6",
            "ticks": ""
           },
           "bgcolor": "white",
           "caxis": {
            "gridcolor": "#DFE8F3",
            "linecolor": "#A2B1C6",
            "ticks": ""
           }
          },
          "title": {
           "x": 0.05
          },
          "xaxis": {
           "automargin": true,
           "gridcolor": "#EBF0F8",
           "linecolor": "#EBF0F8",
           "ticks": "",
           "title": {
            "standoff": 15
           },
           "zerolinecolor": "#EBF0F8",
           "zerolinewidth": 2
          },
          "yaxis": {
           "automargin": true,
           "gridcolor": "#EBF0F8",
           "linecolor": "#EBF0F8",
           "ticks": "",
           "title": {
            "standoff": 15
           },
           "zerolinecolor": "#EBF0F8",
           "zerolinewidth": 2
          }
         }
        },
        "title": {
         "text": "<b>Comparison of Total Revenue, Total Costs, and Total Profit</b>",
         "x": 0.45
        },
        "xaxis": {
         "title": {
          "text": "<b>Category</b>"
         }
        },
        "yaxis": {
         "title": {
          "text": "Amount (INR)"
         }
        }
       }
      },
      "text/html": [
       "<div>                            <div id=\"5143dcab-712f-4fe7-b620-9ed8f1738dd7\" class=\"plotly-graph-div\" style=\"height:525px; width:100%;\"></div>            <script type=\"text/javascript\">                require([\"plotly\"], function(Plotly) {                    window.PLOTLYENV=window.PLOTLYENV || {};                                    if (document.getElementById(\"5143dcab-712f-4fe7-b620-9ed8f1738dd7\")) {                    Plotly.newPlot(                        \"5143dcab-712f-4fe7-b620-9ed8f1738dd7\",                        [{\"marker\":{\"color\":[\"green\",\"yellow\",\"red\"]},\"x\":[\"Total Revenue\",\"Total Costs\",\"Total Profit\"],\"y\":[126990,232709.84999999998,-105719.85],\"type\":\"bar\"}],                        {\"template\":{\"data\":{\"histogram2dcontour\":[{\"type\":\"histogram2dcontour\",\"colorbar\":{\"outlinewidth\":0,\"ticks\":\"\"},\"colorscale\":[[0.0,\"#0d0887\"],[0.1111111111111111,\"#46039f\"],[0.2222222222222222,\"#7201a8\"],[0.3333333333333333,\"#9c179e\"],[0.4444444444444444,\"#bd3786\"],[0.5555555555555556,\"#d8576b\"],[0.6666666666666666,\"#ed7953\"],[0.7777777777777778,\"#fb9f3a\"],[0.8888888888888888,\"#fdca26\"],[1.0,\"#f0f921\"]]}],\"choropleth\":[{\"type\":\"choropleth\",\"colorbar\":{\"outlinewidth\":0,\"ticks\":\"\"}}],\"histogram2d\":[{\"type\":\"histogram2d\",\"colorbar\":{\"outlinewidth\":0,\"ticks\":\"\"},\"colorscale\":[[0.0,\"#0d0887\"],[0.1111111111111111,\"#46039f\"],[0.2222222222222222,\"#7201a8\"],[0.3333333333333333,\"#9c179e\"],[0.4444444444444444,\"#bd3786\"],[0.5555555555555556,\"#d8576b\"],[0.6666666666666666,\"#ed7953\"],[0.7777777777777778,\"#fb9f3a\"],[0.8888888888888888,\"#fdca26\"],[1.0,\"#f0f921\"]]}],\"heatmap\":[{\"type\":\"heatmap\",\"colorbar\":{\"outlinewidth\":0,\"ticks\":\"\"},\"colorscale\":[[0.0,\"#0d0887\"],[0.1111111111111111,\"#46039f\"],[0.2222222222222222,\"#7201a8\"],[0.3333333333333333,\"#9c179e\"],[0.4444444444444444,\"#bd3786\"],[0.5555555555555556,\"#d8576b\"],[0.6666666666666666,\"#ed7953\"],[0.7777777777777778,\"#fb9f3a\"],[0.8888888888888888,\"#fdca26\"],[1.0,\"#f0f921\"]]}],\"heatmapgl\":[{\"type\":\"heatmapgl\",\"colorbar\":{\"outlinewidth\":0,\"ticks\":\"\"},\"colorscale\":[[0.0,\"#0d0887\"],[0.1111111111111111,\"#46039f\"],[0.2222222222222222,\"#7201a8\"],[0.3333333333333333,\"#9c179e\"],[0.4444444444444444,\"#bd3786\"],[0.5555555555555556,\"#d8576b\"],[0.6666666666666666,\"#ed7953\"],[0.7777777777777778,\"#fb9f3a\"],[0.8888888888888888,\"#fdca26\"],[1.0,\"#f0f921\"]]}],\"contourcarpet\":[{\"type\":\"contourcarpet\",\"colorbar\":{\"outlinewidth\":0,\"ticks\":\"\"}}],\"contour\":[{\"type\":\"contour\",\"colorbar\":{\"outlinewidth\":0,\"ticks\":\"\"},\"colorscale\":[[0.0,\"#0d0887\"],[0.1111111111111111,\"#46039f\"],[0.2222222222222222,\"#7201a8\"],[0.3333333333333333,\"#9c179e\"],[0.4444444444444444,\"#bd3786\"],[0.5555555555555556,\"#d8576b\"],[0.6666666666666666,\"#ed7953\"],[0.7777777777777778,\"#fb9f3a\"],[0.8888888888888888,\"#fdca26\"],[1.0,\"#f0f921\"]]}],\"surface\":[{\"type\":\"surface\",\"colorbar\":{\"outlinewidth\":0,\"ticks\":\"\"},\"colorscale\":[[0.0,\"#0d0887\"],[0.1111111111111111,\"#46039f\"],[0.2222222222222222,\"#7201a8\"],[0.3333333333333333,\"#9c179e\"],[0.4444444444444444,\"#bd3786\"],[0.5555555555555556,\"#d8576b\"],[0.6666666666666666,\"#ed7953\"],[0.7777777777777778,\"#fb9f3a\"],[0.8888888888888888,\"#fdca26\"],[1.0,\"#f0f921\"]]}],\"mesh3d\":[{\"type\":\"mesh3d\",\"colorbar\":{\"outlinewidth\":0,\"ticks\":\"\"}}],\"scatter\":[{\"fillpattern\":{\"fillmode\":\"overlay\",\"size\":10,\"solidity\":0.2},\"type\":\"scatter\"}],\"parcoords\":[{\"type\":\"parcoords\",\"line\":{\"colorbar\":{\"outlinewidth\":0,\"ticks\":\"\"}}}],\"scatterpolargl\":[{\"type\":\"scatterpolargl\",\"marker\":{\"colorbar\":{\"outlinewidth\":0,\"ticks\":\"\"}}}],\"bar\":[{\"error_x\":{\"color\":\"#2a3f5f\"},\"error_y\":{\"color\":\"#2a3f5f\"},\"marker\":{\"line\":{\"color\":\"white\",\"width\":0.5},\"pattern\":{\"fillmode\":\"overlay\",\"size\":10,\"solidity\":0.2}},\"type\":\"bar\"}],\"scattergeo\":[{\"type\":\"scattergeo\",\"marker\":{\"colorbar\":{\"outlinewidth\":0,\"ticks\":\"\"}}}],\"scatterpolar\":[{\"type\":\"scatterpolar\",\"marker\":{\"colorbar\":{\"outlinewidth\":0,\"ticks\":\"\"}}}],\"histogram\":[{\"marker\":{\"pattern\":{\"fillmode\":\"overlay\",\"size\":10,\"solidity\":0.2}},\"type\":\"histogram\"}],\"scattergl\":[{\"type\":\"scattergl\",\"marker\":{\"colorbar\":{\"outlinewidth\":0,\"ticks\":\"\"}}}],\"scatter3d\":[{\"type\":\"scatter3d\",\"line\":{\"colorbar\":{\"outlinewidth\":0,\"ticks\":\"\"}},\"marker\":{\"colorbar\":{\"outlinewidth\":0,\"ticks\":\"\"}}}],\"scattermapbox\":[{\"type\":\"scattermapbox\",\"marker\":{\"colorbar\":{\"outlinewidth\":0,\"ticks\":\"\"}}}],\"scatterternary\":[{\"type\":\"scatterternary\",\"marker\":{\"colorbar\":{\"outlinewidth\":0,\"ticks\":\"\"}}}],\"scattercarpet\":[{\"type\":\"scattercarpet\",\"marker\":{\"colorbar\":{\"outlinewidth\":0,\"ticks\":\"\"}}}],\"carpet\":[{\"aaxis\":{\"endlinecolor\":\"#2a3f5f\",\"gridcolor\":\"#C8D4E3\",\"linecolor\":\"#C8D4E3\",\"minorgridcolor\":\"#C8D4E3\",\"startlinecolor\":\"#2a3f5f\"},\"baxis\":{\"endlinecolor\":\"#2a3f5f\",\"gridcolor\":\"#C8D4E3\",\"linecolor\":\"#C8D4E3\",\"minorgridcolor\":\"#C8D4E3\",\"startlinecolor\":\"#2a3f5f\"},\"type\":\"carpet\"}],\"table\":[{\"cells\":{\"fill\":{\"color\":\"#EBF0F8\"},\"line\":{\"color\":\"white\"}},\"header\":{\"fill\":{\"color\":\"#C8D4E3\"},\"line\":{\"color\":\"white\"}},\"type\":\"table\"}],\"barpolar\":[{\"marker\":{\"line\":{\"color\":\"white\",\"width\":0.5},\"pattern\":{\"fillmode\":\"overlay\",\"size\":10,\"solidity\":0.2}},\"type\":\"barpolar\"}],\"pie\":[{\"automargin\":true,\"type\":\"pie\"}]},\"layout\":{\"autotypenumbers\":\"strict\",\"colorway\":[\"#636efa\",\"#EF553B\",\"#00cc96\",\"#ab63fa\",\"#FFA15A\",\"#19d3f3\",\"#FF6692\",\"#B6E880\",\"#FF97FF\",\"#FECB52\"],\"font\":{\"color\":\"#2a3f5f\"},\"hovermode\":\"closest\",\"hoverlabel\":{\"align\":\"left\"},\"paper_bgcolor\":\"white\",\"plot_bgcolor\":\"white\",\"polar\":{\"bgcolor\":\"white\",\"angularaxis\":{\"gridcolor\":\"#EBF0F8\",\"linecolor\":\"#EBF0F8\",\"ticks\":\"\"},\"radialaxis\":{\"gridcolor\":\"#EBF0F8\",\"linecolor\":\"#EBF0F8\",\"ticks\":\"\"}},\"ternary\":{\"bgcolor\":\"white\",\"aaxis\":{\"gridcolor\":\"#DFE8F3\",\"linecolor\":\"#A2B1C6\",\"ticks\":\"\"},\"baxis\":{\"gridcolor\":\"#DFE8F3\",\"linecolor\":\"#A2B1C6\",\"ticks\":\"\"},\"caxis\":{\"gridcolor\":\"#DFE8F3\",\"linecolor\":\"#A2B1C6\",\"ticks\":\"\"}},\"coloraxis\":{\"colorbar\":{\"outlinewidth\":0,\"ticks\":\"\"}},\"colorscale\":{\"sequential\":[[0.0,\"#0d0887\"],[0.1111111111111111,\"#46039f\"],[0.2222222222222222,\"#7201a8\"],[0.3333333333333333,\"#9c179e\"],[0.4444444444444444,\"#bd3786\"],[0.5555555555555556,\"#d8576b\"],[0.6666666666666666,\"#ed7953\"],[0.7777777777777778,\"#fb9f3a\"],[0.8888888888888888,\"#fdca26\"],[1.0,\"#f0f921\"]],\"sequentialminus\":[[0.0,\"#0d0887\"],[0.1111111111111111,\"#46039f\"],[0.2222222222222222,\"#7201a8\"],[0.3333333333333333,\"#9c179e\"],[0.4444444444444444,\"#bd3786\"],[0.5555555555555556,\"#d8576b\"],[0.6666666666666666,\"#ed7953\"],[0.7777777777777778,\"#fb9f3a\"],[0.8888888888888888,\"#fdca26\"],[1.0,\"#f0f921\"]],\"diverging\":[[0,\"#8e0152\"],[0.1,\"#c51b7d\"],[0.2,\"#de77ae\"],[0.3,\"#f1b6da\"],[0.4,\"#fde0ef\"],[0.5,\"#f7f7f7\"],[0.6,\"#e6f5d0\"],[0.7,\"#b8e186\"],[0.8,\"#7fbc41\"],[0.9,\"#4d9221\"],[1,\"#276419\"]]},\"xaxis\":{\"gridcolor\":\"#EBF0F8\",\"linecolor\":\"#EBF0F8\",\"ticks\":\"\",\"title\":{\"standoff\":15},\"zerolinecolor\":\"#EBF0F8\",\"automargin\":true,\"zerolinewidth\":2},\"yaxis\":{\"gridcolor\":\"#EBF0F8\",\"linecolor\":\"#EBF0F8\",\"ticks\":\"\",\"title\":{\"standoff\":15},\"zerolinecolor\":\"#EBF0F8\",\"automargin\":true,\"zerolinewidth\":2},\"scene\":{\"xaxis\":{\"backgroundcolor\":\"white\",\"gridcolor\":\"#DFE8F3\",\"linecolor\":\"#EBF0F8\",\"showbackground\":true,\"ticks\":\"\",\"zerolinecolor\":\"#EBF0F8\",\"gridwidth\":2},\"yaxis\":{\"backgroundcolor\":\"white\",\"gridcolor\":\"#DFE8F3\",\"linecolor\":\"#EBF0F8\",\"showbackground\":true,\"ticks\":\"\",\"zerolinecolor\":\"#EBF0F8\",\"gridwidth\":2},\"zaxis\":{\"backgroundcolor\":\"white\",\"gridcolor\":\"#DFE8F3\",\"linecolor\":\"#EBF0F8\",\"showbackground\":true,\"ticks\":\"\",\"zerolinecolor\":\"#EBF0F8\",\"gridwidth\":2}},\"shapedefaults\":{\"line\":{\"color\":\"#2a3f5f\"}},\"annotationdefaults\":{\"arrowcolor\":\"#2a3f5f\",\"arrowhead\":0,\"arrowwidth\":1},\"geo\":{\"bgcolor\":\"white\",\"landcolor\":\"white\",\"subunitcolor\":\"#C8D4E3\",\"showland\":true,\"showlakes\":true,\"lakecolor\":\"white\"},\"title\":{\"x\":0.05},\"mapbox\":{\"style\":\"light\"}}},\"title\":{\"text\":\"<b>Comparison of Total Revenue, Total Costs, and Total Profit</b>\",\"x\":0.45},\"xaxis\":{\"title\":{\"text\":\"<b>Category</b>\"}},\"yaxis\":{\"title\":{\"text\":\"Amount (INR)\"}}},                        {\"responsive\": true}                    ).then(function(){\n",
       "                            \n",
       "var gd = document.getElementById('5143dcab-712f-4fe7-b620-9ed8f1738dd7');\n",
       "var x = new MutationObserver(function (mutations, observer) {{\n",
       "        var display = window.getComputedStyle(gd).display;\n",
       "        if (!display || display === 'none') {{\n",
       "            console.log([gd, 'removed!']);\n",
       "            Plotly.purge(gd);\n",
       "            observer.disconnect();\n",
       "        }}\n",
       "}});\n",
       "\n",
       "// Listen for the removal of the full notebook cells\n",
       "var notebookContainer = gd.closest('#notebook-container');\n",
       "if (notebookContainer) {{\n",
       "    x.observe(notebookContainer, {childList: true});\n",
       "}}\n",
       "\n",
       "// Listen for the clearing of the current output cell\n",
       "var outputEl = gd.closest('.output');\n",
       "if (outputEl) {{\n",
       "    x.observe(outputEl, {childList: true});\n",
       "}}\n",
       "\n",
       "                        })                };                });            </script>        </div>"
      ]
     },
     "metadata": {},
     "output_type": "display_data"
    }
   ],
   "source": [
    "categories = ['Total Revenue', 'Total Costs', 'Total Profit']\n",
    "values = [total_revenue, total_costs, total_profit]\n",
    "\n",
    "# Create bar chart\n",
    "fig = go.Figure(data=[go.Bar(x=categories, y=values, marker_color=['green', 'yellow', 'red'])])\n",
    "\n",
    "# Update layout\n",
    "fig.update_layout(title='<b>Comparison of Total Revenue, Total Costs, and Total Profit</b>',\n",
    "                  xaxis_title='<b>Category</b>',\n",
    "                  yaxis_title='Amount (INR)', title_x=0.45)\n",
    "                 \n",
    "\n",
    "# Show the plot\n",
    "fig.show()"
   ]
  },
  {
   "cell_type": "markdown",
   "id": "497445ac",
   "metadata": {},
   "source": [
    "* Total costs surpass total revenue , leading to a substantial loss.\n",
    "* This negative profit signals operational inefficiencies and poses risks to the financial health and sustainability of the business.\n",
    "\n",
    "This situation underscores the importance of closely monitoring and managing costs to ensure they align with revenue generation. \n",
    "\n",
    "It also highlights the need for strategic decision-making to optimize operations, streamline expenses, and increase revenue streams. \n",
    "\n",
    "Without corrective actions, such as cost reduction initiatives or revenue enhancement strategies, the business may continue to experience financial losses, ultimately jeopardizing its long-term viability."
   ]
  },
  {
   "cell_type": "markdown",
   "id": "202deab5",
   "metadata": {},
   "source": [
    "# Profit Enhancement Strategy:"
   ]
  },
  {
   "cell_type": "markdown",
   "id": "ad609856",
   "metadata": {},
   "source": [
    "#### To refine our profitability strategy, we've recognized the adverse impact of discounts on food orders, leading to substantial losses. \n",
    "\n",
    "\n",
    "Now, we aim to determine an optimal balance for offering discounts and charging commissions. \n",
    "\n",
    "#### This involves a deeper analysis of the traits of profitable orders. Specifically, we'll investigate:\n",
    "* A new average commission percentage derived from profitable orders.\n",
    "* A new average discount percentage for profitable orders, serving as a benchmark to gauge profitability.\n",
    "\n",
    "\n",
    "#### With these fresh insights, we can propose adjustments that not only ensure profitability per order but also have broader applicability, enhancing overall profitability.\n",
    "* The average commission percentage for profitable orders.\n",
    "* The average discount percentage for profitable orders."
   ]
  },
  {
   "cell_type": "code",
   "execution_count": 15,
   "id": "e2dff196",
   "metadata": {},
   "outputs": [
    {
     "data": {
      "text/plain": [
       "(30.508436145149446, 5.867469879518072)"
      ]
     },
     "execution_count": 15,
     "metadata": {},
     "output_type": "execute_result"
    }
   ],
   "source": [
    "# Let's start by filtering the dataset for profitable orders\n",
    "profitable_orders = data[data['Profit'] > 0].copy()\n",
    "\n",
    "# calculate the average commission percentage for profitable orders\n",
    "profitable_orders['Commission Percentage'] = (profitable_orders['Commission Fee'] / profitable_orders['Order Value']) * 100\n",
    "\n",
    "# calculate the average discount percentage for profitable orders\n",
    "profitable_orders['Effective Discount Percentage'] = (profitable_orders['Discount Amount'] / profitable_orders['Order Value']) * 100\n",
    "\n",
    "# calculate the new averages\n",
    "new_avg_commission_percentage = profitable_orders['Commission Percentage'].mean()\n",
    "new_avg_discount_percentage = profitable_orders['Effective Discount Percentage'].mean()\n",
    "\n",
    "new_avg_commission_percentage, new_avg_discount_percentage\n"
   ]
  },
  {
   "cell_type": "markdown",
   "id": "54dfecd6",
   "metadata": {},
   "source": [
    "* #### New Average Commission Percentage: 30.51%\n",
    "* #### New Average Discount Percentage: 5.87%\n",
    "\n",
    "The average commission percentage for profitable orders is higher than the overall average for all orders. This suggests that charging a higher commission rate might be key to making orders profitable. \n",
    "\n",
    "On the other hand, the average discount percentage for profitable orders is lower than the overall average, indicating that offering lower discounts could still lead to profitability without losing too many orders.\n",
    "\n",
    "\n",
    "\n",
    "### Based on this analysis, aiming for a commission rate around 31% and a discount rate around 6% could improve profitability overall.\n",
    "\n",
    "Now, let's visualize how actual versus recommended discounts and commissions compare across all orders:\n",
    "\n",
    "* #### First, calculate the profitability per order using the current discounts and commissions.\n",
    "* #### Then, simulate profitability per order using recommended discounts (6%) and commissions (31%) to see how profitability might change.\n",
    "\n",
    "This comparison will show the potential impact of using the recommended discount and commission rates on overall order profitability."
   ]
  },
  {
   "cell_type": "code",
   "execution_count": 16,
   "id": "2011ab54",
   "metadata": {},
   "outputs": [
    {
     "data": {
      "application/vnd.plotly.v1+json": {
       "config": {
        "plotlyServerURL": "https://plot.ly"
       },
       "data": [
        {
         "histnorm": "probability density",
         "marker": {
          "color": "skyblue"
         },
         "name": "Actual Profitability",
         "opacity": 0.5,
         "type": "histogram",
         "x": [
          7.300000000000011,
          36.39999999999998,
          -20.549999999999983,
          69,
          -946,
          1.0999999999999943,
          86.85,
          10,
          -55.150000000000006,
          89.9,
          69.6,
          -265,
          95,
          -87.94999999999999,
          176,
          23.200000000000017,
          -3.5999999999999943,
          59.3,
          -802,
          -62.69999999999999,
          21,
          51.650000000000006,
          -14,
          -86.85000000000002,
          29.549999999999997,
          -62.10000000000002,
          -51.150000000000006,
          -62,
          38.5,
          28.75,
          64,
          41,
          54,
          -92.5,
          -0.4000000000000057,
          -18.5,
          30.200000000000003,
          57.099999999999994,
          -21.099999999999994,
          33.64999999999998,
          71.5,
          -25.5,
          15.799999999999997,
          -136.10000000000002,
          -68.65,
          44.3,
          29,
          82.05,
          83,
          44.30000000000001,
          4.199999999999989,
          -33.69999999999999,
          -11.400000000000006,
          -78.9,
          -317,
          11.300000000000011,
          -197.10000000000002,
          53.599999999999994,
          37.099999999999994,
          -136.8,
          -216,
          -160.8,
          -246.45,
          52.2,
          -17,
          -37.29999999999998,
          -104.65,
          -146,
          1.8999999999999773,
          -421,
          -25,
          -471.5,
          36.3,
          32.64999999999999,
          103,
          65,
          124.15,
          94.25,
          -716,
          -34.099999999999994,
          8,
          96.05,
          -677,
          -169.65,
          -649.5,
          13.099999999999994,
          30.099999999999994,
          -298.65,
          -156.7,
          10.75,
          6,
          -285,
          -199.64999999999998,
          59.599999999999994,
          62,
          -530,
          -5.849999999999994,
          -106,
          -51.39999999999998,
          90,
          -23.80000000000001,
          56,
          -47.3,
          67,
          64,
          -84.30000000000001,
          124,
          -296,
          63.099999999999994,
          -73.80000000000001,
          9.049999999999997,
          -52.55000000000001,
          -43.5,
          -121.1,
          12,
          -178.75,
          -204.95,
          -91.1,
          -42.95,
          -115.20000000000005,
          34.30000000000001,
          -709,
          56,
          -844,
          91,
          122,
          -769.5,
          -813.5,
          -66.80000000000001,
          -9.5,
          -50.10000000000002,
          127,
          -40,
          -903,
          -37.05,
          -19.19999999999999,
          -490.5,
          -28.80000000000001,
          -276.5,
          -329.5,
          -189.5,
          -9.699999999999989,
          130.5,
          -17.80000000000001,
          -8.400000000000006,
          -97.85,
          -820,
          -710,
          -61.80000000000001,
          26,
          -89.69999999999999,
          134,
          -143,
          -78.5,
          18,
          -14.849999999999994,
          48,
          -349,
          -132.04999999999998,
          -407,
          -164.45,
          -8.200000000000003,
          2.0999999999999943,
          98,
          74.75,
          -5,
          -832.5,
          -458,
          99,
          -28.599999999999994,
          50,
          37.7,
          -641.5,
          -91.70000000000002,
          -242.5,
          -641.5,
          0.9000000000000057,
          6.800000000000011,
          22.399999999999977,
          21.099999999999994,
          -30.950000000000003,
          -110.9,
          48,
          55.35000000000002,
          -144.5,
          80.75,
          51.80000000000001,
          -649.5,
          106,
          -16.349999999999994,
          -521.5,
          36.4,
          -472,
          -925.5,
          95.8,
          -408,
          -63.14999999999998,
          -78.70000000000002,
          -862.5,
          -238.14999999999998,
          -186.10000000000002,
          -131,
          -435.5,
          -200.09999999999997,
          -555.5,
          13.049999999999997,
          -26.100000000000023,
          -483,
          3.5,
          -100.75,
          20,
          -870,
          -247.5,
          62.099999999999994,
          -97.05000000000001,
          97.1,
          -144.04999999999998,
          -389.5,
          29.549999999999997,
          -179.5,
          101,
          -30.5,
          -90.19999999999999,
          -120.1,
          63,
          -378.5,
          37.69999999999999,
          113.9,
          35.8,
          -72.69999999999999,
          -4.700000000000003,
          -91.85000000000002,
          29,
          -132.4,
          -16.5,
          68.1,
          2,
          95,
          -188.54999999999998,
          78.8,
          -210.09999999999997,
          -154.89999999999998,
          18,
          -107.4,
          23.649999999999977,
          -575,
          -30.600000000000023,
          -398,
          157,
          -23.5,
          46.5,
          80.05,
          -817,
          -98.20000000000002,
          -129.4,
          -18.55000000000001,
          -16.200000000000003,
          -863,
          2,
          132,
          -119.94999999999999,
          -4.400000000000006,
          -161.5,
          -151.60000000000002,
          -502.5,
          -558,
          -201.5,
          -51.900000000000006,
          10.75,
          21.80000000000001,
          -89.5,
          99.65,
          90,
          -327.5,
          -7.75,
          -35.349999999999994,
          -232.5,
          -59.29999999999998,
          -251,
          -94.69999999999999,
          -149.2,
          -168.10000000000002,
          -90.10000000000002,
          4.550000000000011,
          17,
          3.75,
          91,
          -153.5,
          2.5,
          -49.650000000000006,
          -421.5,
          86.19999999999999,
          -58.10000000000002,
          -19.69999999999999,
          103,
          -279.5,
          84,
          -70.30000000000001,
          11.800000000000011,
          -752.5,
          60.19999999999999,
          86.19999999999999,
          3.5,
          8,
          104,
          -543.5,
          0.05000000000001137,
          -536,
          121,
          82,
          120,
          115,
          -171.85000000000002,
          -744,
          -37.900000000000006,
          -734.5,
          104.5,
          2,
          132.5,
          3.75,
          12.25,
          -619.5,
          -243,
          111.9,
          -72.5,
          -5.449999999999989,
          22,
          -176.64999999999998,
          57.3,
          -46.80000000000001,
          67,
          3,
          -701.5,
          -182.89999999999998,
          -5,
          -11.800000000000011,
          -50,
          9.299999999999997,
          19,
          -749.5,
          -83.6,
          -658,
          96.5,
          -9,
          57.7,
          -14.5,
          4.399999999999977,
          -11.900000000000006,
          -117.19999999999999,
          50.65,
          -187.5,
          13.300000000000011,
          14.449999999999989,
          135,
          49,
          105,
          -169.10000000000002,
          48,
          -677,
          -54.900000000000006,
          -729,
          66,
          -65.25,
          -75.80000000000001,
          102.05,
          -268.5,
          -27.099999999999994,
          -887,
          2,
          -73.5,
          -60.599999999999994,
          -21.150000000000006,
          77,
          -25.89999999999999,
          -7,
          -244.64999999999998,
          131,
          -120.4,
          58.55,
          132,
          19,
          25.099999999999994,
          71.65,
          -136.15,
          -384.5,
          -176.29999999999995,
          -966,
          -151.10000000000002,
          89.1,
          -26.400000000000006,
          17.69999999999999,
          24,
          61.3,
          38.39999999999998,
          -91.19999999999999,
          -121.79999999999995,
          -33.650000000000006,
          133,
          -159.20000000000002,
          42,
          -97.5,
          -182.10000000000002,
          18,
          42.5,
          -7.450000000000003,
          -5.5,
          -733,
          13.25,
          -35.80000000000001,
          -307,
          -9,
          13.5,
          29.25,
          65.3,
          33,
          126,
          95.1,
          -47.8,
          33,
          -673,
          -220.25,
          -175.89999999999998,
          -614,
          4.150000000000006,
          -404.5,
          -349.5,
          -23.25,
          7.650000000000006,
          118,
          77.95,
          -28.55000000000001,
          -83,
          98.9,
          -149.3,
          34,
          78.5,
          -117.9,
          -754.5,
          4.300000000000011,
          18.75,
          -131,
          -83.10000000000002,
          -286,
          43,
          -14,
          -52.900000000000006,
          96,
          32,
          -619,
          -75,
          -81.25,
          19.94999999999999,
          98,
          -172.5,
          -50.599999999999994,
          -71.5,
          -72.6,
          67.94999999999999,
          -96.9,
          -167.5,
          87,
          -192.35000000000002,
          -6.049999999999997,
          -193,
          -64,
          25.099999999999994,
          -14.849999999999994,
          -765.5,
          68.25,
          -104.85,
          -338,
          121,
          -117.10000000000002,
          -13,
          32,
          -128.39999999999998,
          87,
          -738.5,
          -901,
          32.2,
          138,
          37,
          121,
          -49.95,
          103.3,
          -51.70000000000002,
          6,
          90,
          -302,
          -674,
          -104,
          42,
          -63.60000000000002,
          -836,
          -596.5,
          71.69999999999999,
          -33.5,
          38.3,
          92,
          121,
          -49.599999999999994,
          -96.35000000000002,
          -81.5,
          92.2,
          66.3,
          -22.69999999999999,
          -854,
          87.3,
          -34.69999999999999,
          -24.099999999999994,
          7,
          -88.4,
          -9,
          171,
          -871.5,
          -15.5,
          28,
          58.25,
          -11.5,
          -258.5,
          72.9,
          -42.400000000000006,
          17.849999999999994,
          -318.5,
          -703.5,
          -165,
          -3,
          -36,
          131,
          -241.25,
          34.5,
          -2.799999999999997,
          -895,
          32.95,
          58.2,
          88,
          -676,
          42,
          -15.699999999999989,
          4.199999999999989,
          -197.89999999999998,
          -27.05000000000001,
          16,
          -217.2,
          -964.5,
          -41.30000000000001,
          139.15,
          48,
          -98,
          -510.5,
          16,
          85.4,
          95.85,
          57.9,
          -29,
          -606.5,
          -685.5,
          -175.4,
          98.4,
          -35.75,
          -126.5,
          -257.75,
          68,
          13.200000000000003,
          -299,
          -298.9,
          -398,
          41.2,
          -84.4,
          154,
          -269.5,
          -104.80000000000001,
          -65.4,
          -148.60000000000002,
          130,
          -40,
          -13.550000000000011,
          85,
          79.95,
          -20.5,
          -125.94999999999999,
          17.80000000000001,
          13.900000000000006,
          -27.80000000000001,
          -425.5,
          -48.75,
          -50.80000000000001,
          118.7,
          -632,
          8.300000000000011,
          -112.5,
          -6.400000000000006,
          -618,
          107.1,
          11.699999999999989,
          29,
          135,
          -182.09999999999997,
          23.5,
          104,
          111.2,
          -540.5,
          -34.5,
          1.5500000000000114,
          -42.650000000000006,
          -130.3,
          -93.29999999999995,
          29.200000000000003,
          -90.4,
          -128.70000000000002,
          -806.5,
          -74.44999999999999,
          54,
          40,
          -182.29999999999998,
          -866.5,
          36.45,
          51,
          24.299999999999997,
          -62.650000000000006,
          -697.5,
          -39.60000000000002,
          29.599999999999994,
          -670.5,
          -661,
          20,
          -13.700000000000017,
          15,
          -525.5,
          31.450000000000003,
          60,
          -241.95,
          41,
          -150.84999999999997,
          52.5,
          -77.60000000000002,
          -64.5,
          -18.5,
          -825.5,
          63,
          53.400000000000006,
          65,
          78,
          94.9,
          -16,
          -0.9000000000000057,
          -4.900000000000006,
          -126.5,
          -38.29999999999998,
          108,
          37.7,
          -43.10000000000002,
          72,
          -775.5,
          -102,
          68.9,
          26.099999999999994,
          38.05000000000001,
          32.80000000000001,
          19.400000000000006,
          20,
          -314.5,
          -803,
          110,
          -115.9,
          -314.5,
          -3.3499999999999943,
          107,
          -13.800000000000011,
          -17.5,
          80,
          -678.5,
          -44.30000000000001,
          -111.10000000000002,
          -98.80000000000001,
          -21.099999999999994,
          -153.2,
          -119.69999999999999,
          -16.599999999999994,
          23.55000000000001,
          -6,
          52.5,
          -124.9,
          30.099999999999994,
          144,
          -19.80000000000001,
          -71.94999999999999,
          -673.5,
          -248.5,
          -36.150000000000006,
          154,
          118.35,
          -402.5,
          31,
          -183.10000000000002,
          64.25,
          0,
          -193.10000000000002,
          65.9,
          -113.5,
          115,
          -65.9,
          -813,
          -808.5,
          -79.35,
          54.94999999999999,
          -31.19999999999999,
          0.5999999999999943,
          -338.5,
          -119.39999999999998,
          -65.35,
          -118.9,
          105,
          -12.75,
          -122.4,
          37,
          0.05000000000001137,
          -193.8,
          -80.60000000000002,
          22.650000000000006,
          -110.69999999999999,
          -435.5,
          -190.1,
          -149.5,
          11,
          81,
          -495.5,
          -123.19999999999999,
          13.099999999999994,
          80.1,
          34,
          -377,
          70,
          43,
          -630,
          -75.5,
          -2,
          -94.35,
          13,
          -14.900000000000006,
          68.75,
          -472.5,
          136,
          100.35,
          -89.5,
          36.75,
          24.450000000000003,
          68.8,
          24.849999999999994,
          -103.80000000000001,
          -813.5,
          74,
          -169,
          7.200000000000003,
          -123.5,
          82.4,
          -224,
          121,
          50,
          46,
          -38.5,
          -95.30000000000001,
          34,
          60.55,
          -128.59999999999997,
          105,
          36.599999999999994,
          180,
          22.350000000000023,
          -102.54999999999995,
          -130.20000000000002,
          -172.5,
          -828.5,
          -28.80000000000001,
          60.5,
          7.8999999999999915,
          -101.5,
          -408.5,
          -865.5,
          -37.80000000000001,
          -311,
          -23.94999999999999,
          -125.80000000000001,
          147,
          -127.10000000000002,
          15,
          61.5,
          -2,
          113,
          -172.7,
          102,
          13,
          -87.69999999999999,
          -385.5,
          -539,
          -99.30000000000001,
          -88.35000000000002,
          61,
          68,
          -44.400000000000006,
          -228.29999999999995,
          29.150000000000006,
          -222.5,
          -116.60000000000002,
          -80,
          101,
          -172.39999999999998,
          -60,
          -590,
          -22.650000000000006,
          -306.5,
          32,
          -42.400000000000006,
          -57.900000000000006,
          -4.6000000000000085,
          64.9,
          -20.849999999999994,
          70.5,
          -537.5,
          20.5,
          21.899999999999977,
          101,
          -79.4,
          -14,
          64.89999999999998,
          -161.60000000000002,
          -320,
          60.75,
          -91.19999999999999,
          39.5,
          45.55,
          112,
          -421.5,
          48,
          -11.5,
          -79.9,
          84,
          42.900000000000006,
          39.599999999999994,
          10.599999999999994,
          -849.5,
          -79.60000000000002,
          -200.7,
          -19.80000000000001,
          -101.60000000000002,
          -115,
          -651,
          126,
          43,
          34,
          45.5,
          22,
          24,
          -61.349999999999994,
          44,
          -68.6,
          -655,
          140.75,
          -230.7,
          -511,
          -506.5,
          -45.5,
          42,
          -29.900000000000006,
          103,
          100,
          -289.5,
          96,
          -168.64999999999998,
          -11.599999999999994,
          -68.79999999999998,
          -156.5,
          -26.5,
          52.400000000000006,
          -1,
          0.8499999999999943,
          71.5,
          -65.60000000000002,
          -584,
          29.299999999999997,
          -118.1,
          -159.4,
          -395,
          -548.5,
          21,
          -177,
          21.19999999999999,
          -5.75,
          -102.69999999999999,
          42,
          -276.5,
          138.7,
          -289.25,
          27,
          109,
          117,
          -213.5,
          20.900000000000006,
          156,
          11.199999999999989,
          -20,
          -38.95,
          -598.5,
          -533,
          -30.75,
          -58.55000000000001,
          91,
          58,
          -207,
          -917,
          -125.89999999999998,
          -378.5,
          46.400000000000006,
          93,
          36.89999999999998,
          -51.30000000000001,
          -253.64999999999998,
          -214,
          1.2999999999999972,
          51,
          -74.35000000000002,
          68.4,
          -575.5,
          -127.5,
          54,
          -107.54999999999998,
          -16.75,
          11.899999999999991,
          -90.60000000000002,
          -32,
          21.200000000000003,
          14,
          -43.5,
          -261,
          78.94999999999999,
          -161.89999999999998,
          10.699999999999989,
          -729.5,
          72.25,
          4.5,
          99.7,
          -63.150000000000006,
          43,
          62.19999999999999,
          -47.25,
          -0.8499999999999943,
          -152.14999999999998,
          -528.5,
          -371.5,
          -444.5,
          -122,
          -28.80000000000001,
          -41.2,
          50.44999999999999,
          -199.3,
          82.5,
          -25.25,
          47.400000000000006,
          -27.200000000000003,
          -79.80000000000001,
          -2.9000000000000057,
          -230.55,
          -30.94999999999999,
          -52.95,
          5.299999999999997,
          -91.4,
          -474,
          109.25,
          -184.5,
          -74.10000000000002,
          -137.9,
          -175.60000000000002,
          -184.04999999999995,
          44,
          -67.39999999999998,
          -200.59999999999997,
          -47.25,
          28.25,
          -97.35,
          -195.5,
          -30.75,
          -34.89999999999999,
          61,
          -601.5,
          -172.39999999999998,
          -75.5,
          -135.60000000000002,
          -514.5,
          50.45,
          34.099999999999994,
          -45.75,
          -42.80000000000001,
          -391,
          -532,
          -47.75,
          76.75,
          18,
          13,
          -47.099999999999994,
          -115.54999999999995
         ],
         "xaxis": "x",
         "yaxis": "y"
        },
        {
         "histnorm": "probability density",
         "marker": {
          "color": "orange"
         },
         "name": "Estimated Profitability with Recommended Rates",
         "opacity": 0.5,
         "type": "histogram",
         "x": [
          431.50000000000006,
          183.50000000000003,
          159.24999999999997,
          288.75,
          418,
          62.75,
          33.74999999999999,
          45.99999999999999,
          327.75,
          72.75000000000001,
          181,
          394,
          148.5,
          114.25,
          282.25,
          220,
          68.00000000000001,
          122.74999999999999,
          355.5,
          332.50000000000006,
          349,
          192.75,
          241.75,
          418.25,
          135.25,
          434.75,
          180.25,
          267,
          3.75,
          85.25,
          423.50000000000006,
          374.75,
          406.75,
          407.5,
          100.5,
          8.75,
          -23,
          16.25,
          289.25,
          249.74999999999997,
          12.500000000000014,
          266.25,
          221,
          434.75000000000006,
          356.25,
          147.75,
          -12.5,
          316.75,
          371.75,
          36.5,
          219,
          144.5,
          264.5,
          69.75,
          89,
          59.249999999999986,
          353.5,
          95,
          172.50000000000003,
          380.5,
          46.5,
          375.49999999999994,
          306.75,
          17,
          150,
          171.5,
          237.75000000000003,
          91.5,
          391.50000000000006,
          179.99999999999997,
          68.5,
          199.25,
          91.74999999999999,
          300.75,
          116,
          158.5,
          160.25,
          12.25,
          284.5,
          46.25,
          206.75,
          -18.75,
          331,
          183.75,
          304.75,
          362.50000000000006,
          45.5,
          399.75000000000006,
          289.5,
          316.25,
          285.5,
          78.5,
          258.75,
          137,
          428.99999999999994,
          249,
          -8.75,
          26.5,
          115,
          -36.24999999999999,
          357,
          343,
          69.49999999999999,
          -56.5,
          136.5,
          349.25,
          -28.749999999999993,
          131,
          202.49999999999997,
          365,
          296.75,
          219.75,
          9.5,
          208.5,
          124.5,
          365.25000000000006,
          181.25,
          123.49999999999999,
          93.75,
          369.99999999999994,
          256.5,
          318.5,
          196,
          369.5,
          395,
          191.75,
          348.25,
          437.25,
          249.00000000000003,
          16.25,
          353.75,
          381.24999999999994,
          194.24999999999997,
          393.5,
          28.75,
          15,
          203.24999999999997,
          243.5,
          342.5,
          159.25,
          365.25000000000006,
          188.74999999999997,
          115.5,
          232.5,
          6,
          214.74999999999997,
          373.00000000000006,
          315.5,
          364,
          98.5,
          329.5,
          185,
          185,
          290.25,
          59.249999999999986,
          195.25,
          454.49999999999994,
          165.00000000000003,
          239.74999999999997,
          155.49999999999997,
          299.75,
          11,
          390.49999999999994,
          148.75,
          50.250000000000014,
          391.24999999999994,
          416.25,
          222.5,
          137,
          -29,
          100.25000000000001,
          139.25,
          328.25,
          308.75,
          98.24999999999999,
          229.75000000000003,
          26.5,
          250.5,
          240.5,
          29.5,
          163.75,
          279.75,
          263.25,
          122.74999999999999,
          267.25,
          -1.75,
          123.50000000000001,
          248.75,
          245.75,
          -0.7500000000000071,
          224.25,
          -18,
          230,
          437.24999999999994,
          214,
          197,
          168.24999999999997,
          439.24999999999994,
          401.75,
          307.25,
          334.25,
          383.5,
          169.75,
          422.5,
          263.25,
          139.75,
          240.75,
          197,
          70.75,
          209.25000000000003,
          169.25,
          371,
          154.75,
          26.75,
          137.75,
          81.5,
          258.75,
          236.24999999999997,
          197.25,
          429.50000000000006,
          108.50000000000001,
          219.75,
          209,
          216.5,
          265.5,
          215.75,
          223.75,
          25.499999999999993,
          285,
          299.5,
          -16.25,
          267.75,
          355.5,
          277,
          206.5,
          1.4999999999999858,
          7.75,
          415.99999999999994,
          291.25,
          108,
          413.49999999999994,
          249.5,
          115.50000000000001,
          136,
          268.75,
          266.5,
          113.49999999999999,
          158.00000000000003,
          431.24999999999994,
          47.25,
          39.75,
          59.750000000000014,
          434.50000000000006,
          307,
          364.5,
          282.75,
          186,
          410,
          212.74999999999997,
          191.25000000000003,
          334.25,
          179,
          98.25000000000001,
          323.5,
          273.25,
          255.5,
          15.75,
          91.24999999999999,
          427.25,
          148.49999999999997,
          6.75,
          -40.75,
          305.25,
          118.75,
          232.25,
          159.75,
          92.75,
          130.50000000000003,
          118,
          262.75,
          427.99999999999994,
          380.25,
          416.75,
          92.75,
          284.75,
          -4.25,
          -24.25,
          41.75,
          20.250000000000007,
          -26.250000000000014,
          205.75,
          257,
          150.25000000000003,
          91.75000000000001,
          209.75,
          137.25,
          -19.5,
          359.75,
          227,
          349.75,
          110,
          262,
          -6.25,
          -35,
          398.25,
          225.25000000000003,
          346.75,
          298.5,
          347.25,
          13.25,
          53.499999999999986,
          439.75,
          302.75,
          310.5,
          154.24999999999997,
          392.25,
          -25.5,
          304.5,
          -9.5,
          324.25,
          -24.25,
          294.25,
          114,
          41.74999999999999,
          63.25,
          284.25,
          320.75,
          237.75,
          51.25,
          303.5,
          222.75000000000003,
          410.74999999999994,
          303.25,
          300.5,
          229,
          232.99999999999997,
          267.5,
          148.50000000000003,
          219.5,
          365.25,
          181,
          329.5,
          1.25,
          21,
          -5.25,
          6.25,
          134,
          142.24999999999997,
          240.99999999999997,
          178.75,
          97.25,
          313.5,
          202.75,
          198.75000000000003,
          335.5,
          -0.75,
          277.5,
          172.5,
          355.5,
          118.5,
          356,
          184,
          224.75,
          38.000000000000014,
          -6.250000000000007,
          106.75,
          289.25,
          414.5,
          204,
          232.25,
          186,
          418.75000000000006,
          35,
          96.5,
          429.75,
          310.75,
          226.25000000000003,
          258.5,
          113.75000000000001,
          305.5,
          133.00000000000003,
          35.5,
          -43.24999999999999,
          216.25,
          195.75000000000003,
          350.5,
          411.49999999999994,
          403.75,
          38.5,
          55.999999999999986,
          26.75,
          182.25,
          82.75,
          204,
          146,
          276,
          300.25,
          231.5,
          367,
          261,
          -4.25,
          450.25,
          26.25,
          371.49999999999994,
          43.25,
          301.75,
          385.49999999999994,
          242.75,
          393.00000000000006,
          212,
          356.75000000000006,
          282.5,
          86.25,
          269.5,
          339.25,
          1.75,
          54.75,
          -51.00000000000001,
          391.24999999999994,
          383.5,
          310.75,
          378.50000000000006,
          282,
          183.25000000000003,
          158.24999999999997,
          138.75,
          42.250000000000014,
          89.74999999999997,
          256,
          61.25,
          146.75,
          25.500000000000014,
          -26.250000000000007,
          408.24999999999994,
          15.000000000000014,
          5.2499999999999964,
          272.25,
          375.75,
          372.5,
          201.25,
          77.5,
          422.75000000000006,
          160.5,
          274.75,
          259,
          198.5,
          414.50000000000006,
          38,
          304.5,
          470,
          387.25,
          6.75,
          301,
          272.5,
          17.5,
          172.24999999999997,
          116,
          138.25000000000003,
          378.75,
          326.5,
          74.49999999999999,
          318.25,
          108.75,
          81,
          364.99999999999994,
          104.5,
          194.24999999999997,
          352.24999999999994,
          45.75,
          83.75,
          139,
          48,
          190.75,
          135,
          187.50000000000003,
          263,
          244.25,
          286.75,
          384.5,
          -25,
          290.5,
          394.25,
          34.75,
          454.74999999999994,
          58.5,
          374.25,
          257.5,
          152.5,
          178,
          272,
          317,
          -9.25,
          367,
          396.99999999999994,
          276.75,
          168.50000000000003,
          265.25,
          176.25000000000003,
          157.25,
          339.5,
          171.99999999999997,
          285.25,
          180.5,
          -33,
          136.75,
          59.25,
          422,
          41.25,
          279.25,
          325.25,
          128,
          267.5,
          106.25000000000001,
          167,
          349.75000000000006,
          357.5,
          159,
          232.75000000000003,
          332.5,
          116.75,
          22.5,
          265,
          235.75,
          142.25,
          319.75,
          100.5,
          91,
          77.5,
          68.74999999999999,
          370.75,
          210.25,
          81.00000000000001,
          412,
          58.75,
          146,
          414.25,
          302.5,
          223,
          241.75,
          142.49999999999997,
          479.50000000000006,
          244.25,
          391.75000000000006,
          278,
          416.75,
          442.5,
          46.75,
          364,
          277,
          214.25,
          213,
          211,
          201.75,
          10.75,
          420.5,
          298.25,
          253.75,
          271,
          -8.5,
          306.75,
          229.25,
          380.25,
          197.50000000000003,
          -8.5,
          124.5,
          359.5,
          165.49999999999997,
          25,
          336,
          95.75,
          88.25000000000001,
          122,
          390,
          422.99999999999994,
          68.75,
          300.5,
          362.75000000000006,
          42.25,
          58.250000000000014,
          208.25,
          108.25,
          72.00000000000001,
          -17.250000000000014,
          89.5,
          145.25,
          358.75,
          265,
          34.5,
          300.5,
          -10.5,
          138.75,
          190.99999999999997,
          286,
          299.5,
          365.25,
          215.50000000000003,
          -12.250000000000007,
          470.49999999999994,
          197.5,
          119.75000000000001,
          71,
          235.25,
          276.5,
          -16.25,
          239.75,
          376.25,
          228.5,
          40,
          359.5,
          286.75,
          385.74999999999994,
          407.24999999999994,
          245.25,
          5,
          313.5,
          407.74999999999994,
          -29.75,
          285,
          42.75,
          353.25000000000006,
          282.75,
          207,
          295,
          254.75,
          275.5,
          141.75,
          372.25,
          -35.5,
          265.25,
          45.75,
          286.5,
          426.25,
          464.75000000000006,
          412.75,
          187.75,
          166,
          -3.749999999999986,
          146.74999999999997,
          443.75,
          110,
          75.5,
          103.75,
          204.75,
          108.75,
          373.75000000000006,
          80.24999999999999,
          185.75,
          340.75,
          192.5,
          45,
          44.500000000000014,
          208.75000000000003,
          -6.25,
          334.75,
          297.5,
          82.75,
          321.5,
          140.25,
          177,
          87,
          336.5,
          178.25,
          376.5,
          278.25,
          184.75,
          77.25,
          110.25000000000001,
          218.25,
          259,
          300.25,
          203.74999999999997,
          322.75,
          231.25,
          248.50000000000003,
          471.5,
          -12.25,
          229,
          276.5,
          319.5,
          67.75,
          217.00000000000003,
          19.5,
          263.5,
          87.75,
          0,
          388.00000000000006,
          349.75,
          273.25,
          398.5,
          -15.75,
          92.5,
          91.24999999999999,
          196.75,
          -0.25,
          320.5,
          254.75,
          -20.5,
          376.75,
          32.5,
          82.75000000000001,
          -27.000000000000014,
          300.25,
          389.99999999999994,
          347.24999999999994,
          123.24999999999999,
          305.25,
          -6,
          226.00000000000003,
          191.75,
          335,
          94.75,
          419.24999999999994,
          329,
          107.25,
          339,
          163.75000000000003,
          71.25,
          387,
          251.5,
          20.25,
          168.25,
          221.75,
          182.5,
          264.25,
          201,
          168.99999999999997,
          239.75,
          171.99999999999997,
          206.24999999999997,
          -10.75,
          137,
          177.5,
          247.75000000000003,
          355.75,
          284.5,
          102.5,
          -23.500000000000007,
          87.25,
          127,
          172.49999999999997,
          135.25,
          145.75,
          385.5,
          29.749999999999993,
          360.75,
          292.25,
          36.25,
          28.999999999999986,
          256.75,
          202,
          415.75,
          114.5,
          -1.5,
          143,
          -19.250000000000014,
          -2,
          270,
          393.00000000000006,
          64.5,
          144,
          0.75,
          49.500000000000014,
          284,
          195.25,
          471,
          273,
          129,
          413.5,
          171.75,
          364.25,
          343,
          80.75,
          390.75,
          182.5,
          -14.75,
          465.5,
          -26.25,
          168.75,
          369.25,
          150,
          233.49999999999997,
          185.75000000000003,
          344,
          201,
          350.25,
          125.75,
          129.25,
          50.999999999999986,
          113.5,
          389.5,
          152.25,
          364.75,
          388.5,
          120.25,
          308.5,
          99.50000000000001,
          334.75,
          208,
          372.75,
          211,
          325.5,
          23.25,
          86.75,
          348,
          -3.5,
          67,
          417,
          148.00000000000003,
          274.5,
          362.25,
          98.25,
          355.25,
          32.000000000000014,
          322.5,
          272,
          12.25,
          94.25,
          120.5,
          264.75,
          -71.25,
          114.25,
          387.5,
          401,
          74,
          113.25,
          389.99999999999994,
          115.99999999999999,
          34.25000000000001,
          165,
          100.75,
          93.25,
          80,
          142.25,
          -3.5,
          32.25,
          370.25,
          285.5,
          -57.25000000000001,
          349,
          122.50000000000001,
          415.25000000000006,
          342,
          447.50000000000006,
          -3,
          430.99999999999994,
          117.5,
          251,
          227.75,
          131.5,
          258.75,
          -13.75,
          411.99999999999994,
          219.25,
          134.25,
          433,
          46.499999999999986,
          235,
          -14.75,
          422.5,
          209,
          227.25000000000003,
          399.74999999999994,
          56.25,
          163.25,
          109.5,
          347.75,
          179.25,
          3.25,
          312.75,
          161.00000000000003,
          332,
          137.25,
          341.25,
          -38,
          186.5,
          58.749999999999986,
          111.75000000000001,
          185.50000000000003,
          363.5,
          -47.5,
          73.5,
          338.5,
          173.5,
          215.75,
          47.500000000000014,
          327,
          95.50000000000001,
          361.75,
          439.5,
          23.250000000000007,
          53.749999999999986,
          3.75,
          456.75000000000006,
          324,
          35.000000000000014,
          -13,
          308.5,
          16.5,
          251.25,
          238.99999999999997,
          24.500000000000014,
          146.75,
          264.75,
          255.99999999999997,
          154.25,
          263.75,
          64.25,
          206.75,
          71.5,
          391.49999999999994,
          419.75,
          168.75000000000003,
          29.5,
          365.75000000000006,
          153.75,
          286.25,
          297.75,
          57,
          214.25000000000003,
          276.75,
          424.75,
          35,
          257.25,
          310.5,
          183.5,
          128.25000000000003,
          -14.25,
          186.74999999999997,
          414.5,
          44.5,
          -14.5,
          12,
          324.5,
          351.99999999999994,
          222.25000000000003,
          395.74999999999994,
          92.49999999999999,
          316.75,
          203.75,
          59.499999999999986,
          -11.500000000000007,
          232.25,
          273,
          299,
          192.75,
          172.25,
          319.25,
          293.25,
          104.24999999999997,
          234.25,
          288,
          130,
          80.5,
          118.75,
          342.25,
          36.5,
          318.25,
          17,
          141.5,
          41,
          72.25,
          393.24999999999994,
          81.25000000000001,
          98.74999999999999,
          268.75,
          254,
          217.5,
          8.249999999999996,
          11.75,
          424.25000000000006,
          242.25,
          396.5,
          321.75,
          96.74999999999999,
          53.999999999999986,
          408.00000000000006,
          244.25,
          296.75,
          239.25,
          147.75,
          42.75,
          101.5,
          173.50000000000003,
          246.25,
          353.49999999999994,
          166.50000000000003,
          327,
          293.75,
          367.75,
          169.50000000000003,
          322.75,
          179,
          152.00000000000003,
          219.5,
          41.75,
          159.25,
          314.75,
          87.25,
          319.5,
          367.24999999999994
         ],
         "xaxis": "x",
         "yaxis": "y"
        }
       ],
       "layout": {
        "template": {
         "data": {
          "bar": [
           {
            "error_x": {
             "color": "#2a3f5f"
            },
            "error_y": {
             "color": "#2a3f5f"
            },
            "marker": {
             "line": {
              "color": "white",
              "width": 0.5
             },
             "pattern": {
              "fillmode": "overlay",
              "size": 10,
              "solidity": 0.2
             }
            },
            "type": "bar"
           }
          ],
          "barpolar": [
           {
            "marker": {
             "line": {
              "color": "white",
              "width": 0.5
             },
             "pattern": {
              "fillmode": "overlay",
              "size": 10,
              "solidity": 0.2
             }
            },
            "type": "barpolar"
           }
          ],
          "carpet": [
           {
            "aaxis": {
             "endlinecolor": "#2a3f5f",
             "gridcolor": "#C8D4E3",
             "linecolor": "#C8D4E3",
             "minorgridcolor": "#C8D4E3",
             "startlinecolor": "#2a3f5f"
            },
            "baxis": {
             "endlinecolor": "#2a3f5f",
             "gridcolor": "#C8D4E3",
             "linecolor": "#C8D4E3",
             "minorgridcolor": "#C8D4E3",
             "startlinecolor": "#2a3f5f"
            },
            "type": "carpet"
           }
          ],
          "choropleth": [
           {
            "colorbar": {
             "outlinewidth": 0,
             "ticks": ""
            },
            "type": "choropleth"
           }
          ],
          "contour": [
           {
            "colorbar": {
             "outlinewidth": 0,
             "ticks": ""
            },
            "colorscale": [
             [
              0,
              "#0d0887"
             ],
             [
              0.1111111111111111,
              "#46039f"
             ],
             [
              0.2222222222222222,
              "#7201a8"
             ],
             [
              0.3333333333333333,
              "#9c179e"
             ],
             [
              0.4444444444444444,
              "#bd3786"
             ],
             [
              0.5555555555555556,
              "#d8576b"
             ],
             [
              0.6666666666666666,
              "#ed7953"
             ],
             [
              0.7777777777777778,
              "#fb9f3a"
             ],
             [
              0.8888888888888888,
              "#fdca26"
             ],
             [
              1,
              "#f0f921"
             ]
            ],
            "type": "contour"
           }
          ],
          "contourcarpet": [
           {
            "colorbar": {
             "outlinewidth": 0,
             "ticks": ""
            },
            "type": "contourcarpet"
           }
          ],
          "heatmap": [
           {
            "colorbar": {
             "outlinewidth": 0,
             "ticks": ""
            },
            "colorscale": [
             [
              0,
              "#0d0887"
             ],
             [
              0.1111111111111111,
              "#46039f"
             ],
             [
              0.2222222222222222,
              "#7201a8"
             ],
             [
              0.3333333333333333,
              "#9c179e"
             ],
             [
              0.4444444444444444,
              "#bd3786"
             ],
             [
              0.5555555555555556,
              "#d8576b"
             ],
             [
              0.6666666666666666,
              "#ed7953"
             ],
             [
              0.7777777777777778,
              "#fb9f3a"
             ],
             [
              0.8888888888888888,
              "#fdca26"
             ],
             [
              1,
              "#f0f921"
             ]
            ],
            "type": "heatmap"
           }
          ],
          "heatmapgl": [
           {
            "colorbar": {
             "outlinewidth": 0,
             "ticks": ""
            },
            "colorscale": [
             [
              0,
              "#0d0887"
             ],
             [
              0.1111111111111111,
              "#46039f"
             ],
             [
              0.2222222222222222,
              "#7201a8"
             ],
             [
              0.3333333333333333,
              "#9c179e"
             ],
             [
              0.4444444444444444,
              "#bd3786"
             ],
             [
              0.5555555555555556,
              "#d8576b"
             ],
             [
              0.6666666666666666,
              "#ed7953"
             ],
             [
              0.7777777777777778,
              "#fb9f3a"
             ],
             [
              0.8888888888888888,
              "#fdca26"
             ],
             [
              1,
              "#f0f921"
             ]
            ],
            "type": "heatmapgl"
           }
          ],
          "histogram": [
           {
            "marker": {
             "pattern": {
              "fillmode": "overlay",
              "size": 10,
              "solidity": 0.2
             }
            },
            "type": "histogram"
           }
          ],
          "histogram2d": [
           {
            "colorbar": {
             "outlinewidth": 0,
             "ticks": ""
            },
            "colorscale": [
             [
              0,
              "#0d0887"
             ],
             [
              0.1111111111111111,
              "#46039f"
             ],
             [
              0.2222222222222222,
              "#7201a8"
             ],
             [
              0.3333333333333333,
              "#9c179e"
             ],
             [
              0.4444444444444444,
              "#bd3786"
             ],
             [
              0.5555555555555556,
              "#d8576b"
             ],
             [
              0.6666666666666666,
              "#ed7953"
             ],
             [
              0.7777777777777778,
              "#fb9f3a"
             ],
             [
              0.8888888888888888,
              "#fdca26"
             ],
             [
              1,
              "#f0f921"
             ]
            ],
            "type": "histogram2d"
           }
          ],
          "histogram2dcontour": [
           {
            "colorbar": {
             "outlinewidth": 0,
             "ticks": ""
            },
            "colorscale": [
             [
              0,
              "#0d0887"
             ],
             [
              0.1111111111111111,
              "#46039f"
             ],
             [
              0.2222222222222222,
              "#7201a8"
             ],
             [
              0.3333333333333333,
              "#9c179e"
             ],
             [
              0.4444444444444444,
              "#bd3786"
             ],
             [
              0.5555555555555556,
              "#d8576b"
             ],
             [
              0.6666666666666666,
              "#ed7953"
             ],
             [
              0.7777777777777778,
              "#fb9f3a"
             ],
             [
              0.8888888888888888,
              "#fdca26"
             ],
             [
              1,
              "#f0f921"
             ]
            ],
            "type": "histogram2dcontour"
           }
          ],
          "mesh3d": [
           {
            "colorbar": {
             "outlinewidth": 0,
             "ticks": ""
            },
            "type": "mesh3d"
           }
          ],
          "parcoords": [
           {
            "line": {
             "colorbar": {
              "outlinewidth": 0,
              "ticks": ""
             }
            },
            "type": "parcoords"
           }
          ],
          "pie": [
           {
            "automargin": true,
            "type": "pie"
           }
          ],
          "scatter": [
           {
            "fillpattern": {
             "fillmode": "overlay",
             "size": 10,
             "solidity": 0.2
            },
            "type": "scatter"
           }
          ],
          "scatter3d": [
           {
            "line": {
             "colorbar": {
              "outlinewidth": 0,
              "ticks": ""
             }
            },
            "marker": {
             "colorbar": {
              "outlinewidth": 0,
              "ticks": ""
             }
            },
            "type": "scatter3d"
           }
          ],
          "scattercarpet": [
           {
            "marker": {
             "colorbar": {
              "outlinewidth": 0,
              "ticks": ""
             }
            },
            "type": "scattercarpet"
           }
          ],
          "scattergeo": [
           {
            "marker": {
             "colorbar": {
              "outlinewidth": 0,
              "ticks": ""
             }
            },
            "type": "scattergeo"
           }
          ],
          "scattergl": [
           {
            "marker": {
             "colorbar": {
              "outlinewidth": 0,
              "ticks": ""
             }
            },
            "type": "scattergl"
           }
          ],
          "scattermapbox": [
           {
            "marker": {
             "colorbar": {
              "outlinewidth": 0,
              "ticks": ""
             }
            },
            "type": "scattermapbox"
           }
          ],
          "scatterpolar": [
           {
            "marker": {
             "colorbar": {
              "outlinewidth": 0,
              "ticks": ""
             }
            },
            "type": "scatterpolar"
           }
          ],
          "scatterpolargl": [
           {
            "marker": {
             "colorbar": {
              "outlinewidth": 0,
              "ticks": ""
             }
            },
            "type": "scatterpolargl"
           }
          ],
          "scatterternary": [
           {
            "marker": {
             "colorbar": {
              "outlinewidth": 0,
              "ticks": ""
             }
            },
            "type": "scatterternary"
           }
          ],
          "surface": [
           {
            "colorbar": {
             "outlinewidth": 0,
             "ticks": ""
            },
            "colorscale": [
             [
              0,
              "#0d0887"
             ],
             [
              0.1111111111111111,
              "#46039f"
             ],
             [
              0.2222222222222222,
              "#7201a8"
             ],
             [
              0.3333333333333333,
              "#9c179e"
             ],
             [
              0.4444444444444444,
              "#bd3786"
             ],
             [
              0.5555555555555556,
              "#d8576b"
             ],
             [
              0.6666666666666666,
              "#ed7953"
             ],
             [
              0.7777777777777778,
              "#fb9f3a"
             ],
             [
              0.8888888888888888,
              "#fdca26"
             ],
             [
              1,
              "#f0f921"
             ]
            ],
            "type": "surface"
           }
          ],
          "table": [
           {
            "cells": {
             "fill": {
              "color": "#EBF0F8"
             },
             "line": {
              "color": "white"
             }
            },
            "header": {
             "fill": {
              "color": "#C8D4E3"
             },
             "line": {
              "color": "white"
             }
            },
            "type": "table"
           }
          ]
         },
         "layout": {
          "annotationdefaults": {
           "arrowcolor": "#2a3f5f",
           "arrowhead": 0,
           "arrowwidth": 1
          },
          "autotypenumbers": "strict",
          "coloraxis": {
           "colorbar": {
            "outlinewidth": 0,
            "ticks": ""
           }
          },
          "colorscale": {
           "diverging": [
            [
             0,
             "#8e0152"
            ],
            [
             0.1,
             "#c51b7d"
            ],
            [
             0.2,
             "#de77ae"
            ],
            [
             0.3,
             "#f1b6da"
            ],
            [
             0.4,
             "#fde0ef"
            ],
            [
             0.5,
             "#f7f7f7"
            ],
            [
             0.6,
             "#e6f5d0"
            ],
            [
             0.7,
             "#b8e186"
            ],
            [
             0.8,
             "#7fbc41"
            ],
            [
             0.9,
             "#4d9221"
            ],
            [
             1,
             "#276419"
            ]
           ],
           "sequential": [
            [
             0,
             "#0d0887"
            ],
            [
             0.1111111111111111,
             "#46039f"
            ],
            [
             0.2222222222222222,
             "#7201a8"
            ],
            [
             0.3333333333333333,
             "#9c179e"
            ],
            [
             0.4444444444444444,
             "#bd3786"
            ],
            [
             0.5555555555555556,
             "#d8576b"
            ],
            [
             0.6666666666666666,
             "#ed7953"
            ],
            [
             0.7777777777777778,
             "#fb9f3a"
            ],
            [
             0.8888888888888888,
             "#fdca26"
            ],
            [
             1,
             "#f0f921"
            ]
           ],
           "sequentialminus": [
            [
             0,
             "#0d0887"
            ],
            [
             0.1111111111111111,
             "#46039f"
            ],
            [
             0.2222222222222222,
             "#7201a8"
            ],
            [
             0.3333333333333333,
             "#9c179e"
            ],
            [
             0.4444444444444444,
             "#bd3786"
            ],
            [
             0.5555555555555556,
             "#d8576b"
            ],
            [
             0.6666666666666666,
             "#ed7953"
            ],
            [
             0.7777777777777778,
             "#fb9f3a"
            ],
            [
             0.8888888888888888,
             "#fdca26"
            ],
            [
             1,
             "#f0f921"
            ]
           ]
          },
          "colorway": [
           "#636efa",
           "#EF553B",
           "#00cc96",
           "#ab63fa",
           "#FFA15A",
           "#19d3f3",
           "#FF6692",
           "#B6E880",
           "#FF97FF",
           "#FECB52"
          ],
          "font": {
           "color": "#2a3f5f"
          },
          "geo": {
           "bgcolor": "white",
           "lakecolor": "white",
           "landcolor": "white",
           "showlakes": true,
           "showland": true,
           "subunitcolor": "#C8D4E3"
          },
          "hoverlabel": {
           "align": "left"
          },
          "hovermode": "closest",
          "mapbox": {
           "style": "light"
          },
          "paper_bgcolor": "white",
          "plot_bgcolor": "white",
          "polar": {
           "angularaxis": {
            "gridcolor": "#EBF0F8",
            "linecolor": "#EBF0F8",
            "ticks": ""
           },
           "bgcolor": "white",
           "radialaxis": {
            "gridcolor": "#EBF0F8",
            "linecolor": "#EBF0F8",
            "ticks": ""
           }
          },
          "scene": {
           "xaxis": {
            "backgroundcolor": "white",
            "gridcolor": "#DFE8F3",
            "gridwidth": 2,
            "linecolor": "#EBF0F8",
            "showbackground": true,
            "ticks": "",
            "zerolinecolor": "#EBF0F8"
           },
           "yaxis": {
            "backgroundcolor": "white",
            "gridcolor": "#DFE8F3",
            "gridwidth": 2,
            "linecolor": "#EBF0F8",
            "showbackground": true,
            "ticks": "",
            "zerolinecolor": "#EBF0F8"
           },
           "zaxis": {
            "backgroundcolor": "white",
            "gridcolor": "#DFE8F3",
            "gridwidth": 2,
            "linecolor": "#EBF0F8",
            "showbackground": true,
            "ticks": "",
            "zerolinecolor": "#EBF0F8"
           }
          },
          "shapedefaults": {
           "line": {
            "color": "#2a3f5f"
           }
          },
          "ternary": {
           "aaxis": {
            "gridcolor": "#DFE8F3",
            "linecolor": "#A2B1C6",
            "ticks": ""
           },
           "baxis": {
            "gridcolor": "#DFE8F3",
            "linecolor": "#A2B1C6",
            "ticks": ""
           },
           "bgcolor": "white",
           "caxis": {
            "gridcolor": "#DFE8F3",
            "linecolor": "#A2B1C6",
            "ticks": ""
           }
          },
          "title": {
           "x": 0.05
          },
          "xaxis": {
           "automargin": true,
           "gridcolor": "#EBF0F8",
           "linecolor": "#EBF0F8",
           "ticks": "",
           "title": {
            "standoff": 15
           },
           "zerolinecolor": "#EBF0F8",
           "zerolinewidth": 2
          },
          "yaxis": {
           "automargin": true,
           "gridcolor": "#EBF0F8",
           "linecolor": "#EBF0F8",
           "ticks": "",
           "title": {
            "standoff": 15
           },
           "zerolinecolor": "#EBF0F8",
           "zerolinewidth": 2
          }
         }
        },
        "title": {
         "text": "<b>Actual vs. Recommended Discount and Commission</b>",
         "x": 0.45
        },
        "xaxis": {
         "anchor": "y",
         "domain": [
          0,
          1
         ],
         "title": {
          "text": "Profit"
         }
        },
        "yaxis": {
         "anchor": "x",
         "domain": [
          0,
          1
         ],
         "title": {
          "text": "Density"
         }
        }
       }
      },
      "text/html": [
       "<div>                            <div id=\"7f0ae354-47d0-4f5b-ad0a-5ae4dd3691bd\" class=\"plotly-graph-div\" style=\"height:525px; width:100%;\"></div>            <script type=\"text/javascript\">                require([\"plotly\"], function(Plotly) {                    window.PLOTLYENV=window.PLOTLYENV || {};                                    if (document.getElementById(\"7f0ae354-47d0-4f5b-ad0a-5ae4dd3691bd\")) {                    Plotly.newPlot(                        \"7f0ae354-47d0-4f5b-ad0a-5ae4dd3691bd\",                        [{\"histnorm\":\"probability density\",\"marker\":{\"color\":\"skyblue\"},\"name\":\"Actual Profitability\",\"opacity\":0.5,\"x\":[7.300000000000011,36.39999999999998,-20.549999999999983,69.0,-946.0,1.0999999999999943,86.85,10.0,-55.150000000000006,89.9,69.6,-265.0,95.0,-87.94999999999999,176.0,23.200000000000017,-3.5999999999999943,59.3,-802.0,-62.69999999999999,21.0,51.650000000000006,-14.0,-86.85000000000002,29.549999999999997,-62.10000000000002,-51.150000000000006,-62.0,38.5,28.75,64.0,41.0,54.0,-92.5,-0.4000000000000057,-18.5,30.200000000000003,57.099999999999994,-21.099999999999994,33.64999999999998,71.5,-25.5,15.799999999999997,-136.10000000000002,-68.65,44.3,29.0,82.05,83.0,44.30000000000001,4.199999999999989,-33.69999999999999,-11.400000000000006,-78.9,-317.0,11.300000000000011,-197.10000000000002,53.599999999999994,37.099999999999994,-136.8,-216.0,-160.8,-246.45,52.2,-17.0,-37.29999999999998,-104.65,-146.0,1.8999999999999773,-421.0,-25.0,-471.5,36.3,32.64999999999999,103.0,65.0,124.15,94.25,-716.0,-34.099999999999994,8.0,96.05,-677.0,-169.65,-649.5,13.099999999999994,30.099999999999994,-298.65,-156.7,10.75,6.0,-285.0,-199.64999999999998,59.599999999999994,62.0,-530.0,-5.849999999999994,-106.0,-51.39999999999998,90.0,-23.80000000000001,56.0,-47.3,67.0,64.0,-84.30000000000001,124.0,-296.0,63.099999999999994,-73.80000000000001,9.049999999999997,-52.55000000000001,-43.5,-121.1,12.0,-178.75,-204.95,-91.1,-42.95,-115.20000000000005,34.30000000000001,-709.0,56.0,-844.0,91.0,122.0,-769.5,-813.5,-66.80000000000001,-9.5,-50.10000000000002,127.0,-40.0,-903.0,-37.05,-19.19999999999999,-490.5,-28.80000000000001,-276.5,-329.5,-189.5,-9.699999999999989,130.5,-17.80000000000001,-8.400000000000006,-97.85,-820.0,-710.0,-61.80000000000001,26.0,-89.69999999999999,134.0,-143.0,-78.5,18.0,-14.849999999999994,48.0,-349.0,-132.04999999999998,-407.0,-164.45,-8.200000000000003,2.0999999999999943,98.0,74.75,-5.0,-832.5,-458.0,99.0,-28.599999999999994,50.0,37.7,-641.5,-91.70000000000002,-242.5,-641.5,0.9000000000000057,6.800000000000011,22.399999999999977,21.099999999999994,-30.950000000000003,-110.9,48.0,55.35000000000002,-144.5,80.75,51.80000000000001,-649.5,106.0,-16.349999999999994,-521.5,36.4,-472.0,-925.5,95.8,-408.0,-63.14999999999998,-78.70000000000002,-862.5,-238.14999999999998,-186.10000000000002,-131.0,-435.5,-200.09999999999997,-555.5,13.049999999999997,-26.100000000000023,-483.0,3.5,-100.75,20.0,-870.0,-247.5,62.099999999999994,-97.05000000000001,97.1,-144.04999999999998,-389.5,29.549999999999997,-179.5,101.0,-30.5,-90.19999999999999,-120.1,63.0,-378.5,37.69999999999999,113.9,35.8,-72.69999999999999,-4.700000000000003,-91.85000000000002,29.0,-132.4,-16.5,68.1,2.0,95.0,-188.54999999999998,78.8,-210.09999999999997,-154.89999999999998,18.0,-107.4,23.649999999999977,-575.0,-30.600000000000023,-398.0,157.0,-23.5,46.5,80.05,-817.0,-98.20000000000002,-129.4,-18.55000000000001,-16.200000000000003,-863.0,2.0,132.0,-119.94999999999999,-4.400000000000006,-161.5,-151.60000000000002,-502.5,-558.0,-201.5,-51.900000000000006,10.75,21.80000000000001,-89.5,99.65,90.0,-327.5,-7.75,-35.349999999999994,-232.5,-59.29999999999998,-251.0,-94.69999999999999,-149.2,-168.10000000000002,-90.10000000000002,4.550000000000011,17.0,3.75,91.0,-153.5,2.5,-49.650000000000006,-421.5,86.19999999999999,-58.10000000000002,-19.69999999999999,103.0,-279.5,84.0,-70.30000000000001,11.800000000000011,-752.5,60.19999999999999,86.19999999999999,3.5,8.0,104.0,-543.5,0.05000000000001137,-536.0,121.0,82.0,120.0,115.0,-171.85000000000002,-744.0,-37.900000000000006,-734.5,104.5,2.0,132.5,3.75,12.25,-619.5,-243.0,111.9,-72.5,-5.449999999999989,22.0,-176.64999999999998,57.3,-46.80000000000001,67.0,3.0,-701.5,-182.89999999999998,-5.0,-11.800000000000011,-50.0,9.299999999999997,19.0,-749.5,-83.6,-658.0,96.5,-9.0,57.7,-14.5,4.399999999999977,-11.900000000000006,-117.19999999999999,50.65,-187.5,13.300000000000011,14.449999999999989,135.0,49.0,105.0,-169.10000000000002,48.0,-677.0,-54.900000000000006,-729.0,66.0,-65.25,-75.80000000000001,102.05,-268.5,-27.099999999999994,-887.0,2.0,-73.5,-60.599999999999994,-21.150000000000006,77.0,-25.89999999999999,-7.0,-244.64999999999998,131.0,-120.4,58.55,132.0,19.0,25.099999999999994,71.65,-136.15,-384.5,-176.29999999999995,-966.0,-151.10000000000002,89.1,-26.400000000000006,17.69999999999999,24.0,61.3,38.39999999999998,-91.19999999999999,-121.79999999999995,-33.650000000000006,133.0,-159.20000000000002,42.0,-97.5,-182.10000000000002,18.0,42.5,-7.450000000000003,-5.5,-733.0,13.25,-35.80000000000001,-307.0,-9.0,13.5,29.25,65.3,33.0,126.0,95.1,-47.8,33.0,-673.0,-220.25,-175.89999999999998,-614.0,4.150000000000006,-404.5,-349.5,-23.25,7.650000000000006,118.0,77.95,-28.55000000000001,-83.0,98.9,-149.3,34.0,78.5,-117.9,-754.5,4.300000000000011,18.75,-131.0,-83.10000000000002,-286.0,43.0,-14.0,-52.900000000000006,96.0,32.0,-619.0,-75.0,-81.25,19.94999999999999,98.0,-172.5,-50.599999999999994,-71.5,-72.6,67.94999999999999,-96.9,-167.5,87.0,-192.35000000000002,-6.049999999999997,-193.0,-64.0,25.099999999999994,-14.849999999999994,-765.5,68.25,-104.85,-338.0,121.0,-117.10000000000002,-13.0,32.0,-128.39999999999998,87.0,-738.5,-901.0,32.2,138.0,37.0,121.0,-49.95,103.3,-51.70000000000002,6.0,90.0,-302.0,-674.0,-104.0,42.0,-63.60000000000002,-836.0,-596.5,71.69999999999999,-33.5,38.3,92.0,121.0,-49.599999999999994,-96.35000000000002,-81.5,92.2,66.3,-22.69999999999999,-854.0,87.3,-34.69999999999999,-24.099999999999994,7.0,-88.4,-9.0,171.0,-871.5,-15.5,28.0,58.25,-11.5,-258.5,72.9,-42.400000000000006,17.849999999999994,-318.5,-703.5,-165.0,-3.0,-36.0,131.0,-241.25,34.5,-2.799999999999997,-895.0,32.95,58.2,88.0,-676.0,42.0,-15.699999999999989,4.199999999999989,-197.89999999999998,-27.05000000000001,16.0,-217.2,-964.5,-41.30000000000001,139.15,48.0,-98.0,-510.5,16.0,85.4,95.85,57.9,-29.0,-606.5,-685.5,-175.4,98.4,-35.75,-126.5,-257.75,68.0,13.200000000000003,-299.0,-298.9,-398.0,41.2,-84.4,154.0,-269.5,-104.80000000000001,-65.4,-148.60000000000002,130.0,-40.0,-13.550000000000011,85.0,79.95,-20.5,-125.94999999999999,17.80000000000001,13.900000000000006,-27.80000000000001,-425.5,-48.75,-50.80000000000001,118.7,-632.0,8.300000000000011,-112.5,-6.400000000000006,-618.0,107.1,11.699999999999989,29.0,135.0,-182.09999999999997,23.5,104.0,111.2,-540.5,-34.5,1.5500000000000114,-42.650000000000006,-130.3,-93.29999999999995,29.200000000000003,-90.4,-128.70000000000002,-806.5,-74.44999999999999,54.0,40.0,-182.29999999999998,-866.5,36.45,51.0,24.299999999999997,-62.650000000000006,-697.5,-39.60000000000002,29.599999999999994,-670.5,-661.0,20.0,-13.700000000000017,15.0,-525.5,31.450000000000003,60.0,-241.95,41.0,-150.84999999999997,52.5,-77.60000000000002,-64.5,-18.5,-825.5,63.0,53.400000000000006,65.0,78.0,94.9,-16.0,-0.9000000000000057,-4.900000000000006,-126.5,-38.29999999999998,108.0,37.7,-43.10000000000002,72.0,-775.5,-102.0,68.9,26.099999999999994,38.05000000000001,32.80000000000001,19.400000000000006,20.0,-314.5,-803.0,110.0,-115.9,-314.5,-3.3499999999999943,107.0,-13.800000000000011,-17.5,80.0,-678.5,-44.30000000000001,-111.10000000000002,-98.80000000000001,-21.099999999999994,-153.2,-119.69999999999999,-16.599999999999994,23.55000000000001,-6.0,52.5,-124.9,30.099999999999994,144.0,-19.80000000000001,-71.94999999999999,-673.5,-248.5,-36.150000000000006,154.0,118.35,-402.5,31.0,-183.10000000000002,64.25,0.0,-193.10000000000002,65.9,-113.5,115.0,-65.9,-813.0,-808.5,-79.35,54.94999999999999,-31.19999999999999,0.5999999999999943,-338.5,-119.39999999999998,-65.35,-118.9,105.0,-12.75,-122.4,37.0,0.05000000000001137,-193.8,-80.60000000000002,22.650000000000006,-110.69999999999999,-435.5,-190.1,-149.5,11.0,81.0,-495.5,-123.19999999999999,13.099999999999994,80.1,34.0,-377.0,70.0,43.0,-630.0,-75.5,-2.0,-94.35,13.0,-14.900000000000006,68.75,-472.5,136.0,100.35,-89.5,36.75,24.450000000000003,68.8,24.849999999999994,-103.80000000000001,-813.5,74.0,-169.0,7.200000000000003,-123.5,82.4,-224.0,121.0,50.0,46.0,-38.5,-95.30000000000001,34.0,60.55,-128.59999999999997,105.0,36.599999999999994,180.0,22.350000000000023,-102.54999999999995,-130.20000000000002,-172.5,-828.5,-28.80000000000001,60.5,7.8999999999999915,-101.5,-408.5,-865.5,-37.80000000000001,-311.0,-23.94999999999999,-125.80000000000001,147.0,-127.10000000000002,15.0,61.5,-2.0,113.0,-172.7,102.0,13.0,-87.69999999999999,-385.5,-539.0,-99.30000000000001,-88.35000000000002,61.0,68.0,-44.400000000000006,-228.29999999999995,29.150000000000006,-222.5,-116.60000000000002,-80.0,101.0,-172.39999999999998,-60.0,-590.0,-22.650000000000006,-306.5,32.0,-42.400000000000006,-57.900000000000006,-4.6000000000000085,64.9,-20.849999999999994,70.5,-537.5,20.5,21.899999999999977,101.0,-79.4,-14.0,64.89999999999998,-161.60000000000002,-320.0,60.75,-91.19999999999999,39.5,45.55,112.0,-421.5,48.0,-11.5,-79.9,84.0,42.900000000000006,39.599999999999994,10.599999999999994,-849.5,-79.60000000000002,-200.7,-19.80000000000001,-101.60000000000002,-115.0,-651.0,126.0,43.0,34.0,45.5,22.0,24.0,-61.349999999999994,44.0,-68.6,-655.0,140.75,-230.7,-511.0,-506.5,-45.5,42.0,-29.900000000000006,103.0,100.0,-289.5,96.0,-168.64999999999998,-11.599999999999994,-68.79999999999998,-156.5,-26.5,52.400000000000006,-1.0,0.8499999999999943,71.5,-65.60000000000002,-584.0,29.299999999999997,-118.1,-159.4,-395.0,-548.5,21.0,-177.0,21.19999999999999,-5.75,-102.69999999999999,42.0,-276.5,138.7,-289.25,27.0,109.0,117.0,-213.5,20.900000000000006,156.0,11.199999999999989,-20.0,-38.95,-598.5,-533.0,-30.75,-58.55000000000001,91.0,58.0,-207.0,-917.0,-125.89999999999998,-378.5,46.400000000000006,93.0,36.89999999999998,-51.30000000000001,-253.64999999999998,-214.0,1.2999999999999972,51.0,-74.35000000000002,68.4,-575.5,-127.5,54.0,-107.54999999999998,-16.75,11.899999999999991,-90.60000000000002,-32.0,21.200000000000003,14.0,-43.5,-261.0,78.94999999999999,-161.89999999999998,10.699999999999989,-729.5,72.25,4.5,99.7,-63.150000000000006,43.0,62.19999999999999,-47.25,-0.8499999999999943,-152.14999999999998,-528.5,-371.5,-444.5,-122.0,-28.80000000000001,-41.2,50.44999999999999,-199.3,82.5,-25.25,47.400000000000006,-27.200000000000003,-79.80000000000001,-2.9000000000000057,-230.55,-30.94999999999999,-52.95,5.299999999999997,-91.4,-474.0,109.25,-184.5,-74.10000000000002,-137.9,-175.60000000000002,-184.04999999999995,44.0,-67.39999999999998,-200.59999999999997,-47.25,28.25,-97.35,-195.5,-30.75,-34.89999999999999,61.0,-601.5,-172.39999999999998,-75.5,-135.60000000000002,-514.5,50.45,34.099999999999994,-45.75,-42.80000000000001,-391.0,-532.0,-47.75,76.75,18.0,13.0,-47.099999999999994,-115.54999999999995],\"type\":\"histogram\",\"xaxis\":\"x\",\"yaxis\":\"y\"},{\"histnorm\":\"probability density\",\"marker\":{\"color\":\"orange\"},\"name\":\"Estimated Profitability with Recommended Rates\",\"opacity\":0.5,\"x\":[431.50000000000006,183.50000000000003,159.24999999999997,288.75,418.0,62.75,33.74999999999999,45.99999999999999,327.75,72.75000000000001,181.0,394.0,148.5,114.25,282.25,220.0,68.00000000000001,122.74999999999999,355.5,332.50000000000006,349.0,192.75,241.75,418.25,135.25,434.75,180.25,267.0,3.75,85.25,423.50000000000006,374.75,406.75,407.5,100.5,8.75,-23.0,16.25,289.25,249.74999999999997,12.500000000000014,266.25,221.0,434.75000000000006,356.25,147.75,-12.5,316.75,371.75,36.5,219.0,144.5,264.5,69.75,89.0,59.249999999999986,353.5,95.0,172.50000000000003,380.5,46.5,375.49999999999994,306.75,17.0,150.0,171.5,237.75000000000003,91.5,391.50000000000006,179.99999999999997,68.5,199.25,91.74999999999999,300.75,116.0,158.5,160.25,12.25,284.5,46.25,206.75,-18.75,331.0,183.75,304.75,362.50000000000006,45.5,399.75000000000006,289.5,316.25,285.5,78.5,258.75,137.0,428.99999999999994,249.0,-8.75,26.5,115.0,-36.24999999999999,357.0,343.0,69.49999999999999,-56.5,136.5,349.25,-28.749999999999993,131.0,202.49999999999997,365.0,296.75,219.75,9.5,208.5,124.5,365.25000000000006,181.25,123.49999999999999,93.75,369.99999999999994,256.5,318.5,196.0,369.5,395.0,191.75,348.25,437.25,249.00000000000003,16.25,353.75,381.24999999999994,194.24999999999997,393.5,28.75,15.0,203.24999999999997,243.5,342.5,159.25,365.25000000000006,188.74999999999997,115.5,232.5,6.0,214.74999999999997,373.00000000000006,315.5,364.0,98.5,329.5,185.0,185.0,290.25,59.249999999999986,195.25,454.49999999999994,165.00000000000003,239.74999999999997,155.49999999999997,299.75,11.0,390.49999999999994,148.75,50.250000000000014,391.24999999999994,416.25,222.5,137.0,-29.0,100.25000000000001,139.25,328.25,308.75,98.24999999999999,229.75000000000003,26.5,250.5,240.5,29.5,163.75,279.75,263.25,122.74999999999999,267.25,-1.75,123.50000000000001,248.75,245.75,-0.7500000000000071,224.25,-18.0,230.0,437.24999999999994,214.0,197.0,168.24999999999997,439.24999999999994,401.75,307.25,334.25,383.5,169.75,422.5,263.25,139.75,240.75,197.0,70.75,209.25000000000003,169.25,371.0,154.75,26.75,137.75,81.5,258.75,236.24999999999997,197.25,429.50000000000006,108.50000000000001,219.75,209.0,216.5,265.5,215.75,223.75,25.499999999999993,285.0,299.5,-16.25,267.75,355.5,277.0,206.5,1.4999999999999858,7.75,415.99999999999994,291.25,108.0,413.49999999999994,249.5,115.50000000000001,136.0,268.75,266.5,113.49999999999999,158.00000000000003,431.24999999999994,47.25,39.75,59.750000000000014,434.50000000000006,307.0,364.5,282.75,186.0,410.0,212.74999999999997,191.25000000000003,334.25,179.0,98.25000000000001,323.5,273.25,255.5,15.75,91.24999999999999,427.25,148.49999999999997,6.75,-40.75,305.25,118.75,232.25,159.75,92.75,130.50000000000003,118.0,262.75,427.99999999999994,380.25,416.75,92.75,284.75,-4.25,-24.25,41.75,20.250000000000007,-26.250000000000014,205.75,257.0,150.25000000000003,91.75000000000001,209.75,137.25,-19.5,359.75,227.0,349.75,110.0,262.0,-6.25,-35.0,398.25,225.25000000000003,346.75,298.5,347.25,13.25,53.499999999999986,439.75,302.75,310.5,154.24999999999997,392.25,-25.5,304.5,-9.5,324.25,-24.25,294.25,114.0,41.74999999999999,63.25,284.25,320.75,237.75,51.25,303.5,222.75000000000003,410.74999999999994,303.25,300.5,229.0,232.99999999999997,267.5,148.50000000000003,219.5,365.25,181.0,329.5,1.25,21.0,-5.25,6.25,134.0,142.24999999999997,240.99999999999997,178.75,97.25,313.5,202.75,198.75000000000003,335.5,-0.75,277.5,172.5,355.5,118.5,356.0,184.0,224.75,38.000000000000014,-6.250000000000007,106.75,289.25,414.5,204.0,232.25,186.0,418.75000000000006,35.0,96.5,429.75,310.75,226.25000000000003,258.5,113.75000000000001,305.5,133.00000000000003,35.5,-43.24999999999999,216.25,195.75000000000003,350.5,411.49999999999994,403.75,38.5,55.999999999999986,26.75,182.25,82.75,204.0,146.0,276.0,300.25,231.5,367.0,261.0,-4.25,450.25,26.25,371.49999999999994,43.25,301.75,385.49999999999994,242.75,393.00000000000006,212.0,356.75000000000006,282.5,86.25,269.5,339.25,1.75,54.75,-51.00000000000001,391.24999999999994,383.5,310.75,378.50000000000006,282.0,183.25000000000003,158.24999999999997,138.75,42.250000000000014,89.74999999999997,256.0,61.25,146.75,25.500000000000014,-26.250000000000007,408.24999999999994,15.000000000000014,5.2499999999999964,272.25,375.75,372.5,201.25,77.5,422.75000000000006,160.5,274.75,259.0,198.5,414.50000000000006,38.0,304.5,470.0,387.25,6.75,301.0,272.5,17.5,172.24999999999997,116.0,138.25000000000003,378.75,326.5,74.49999999999999,318.25,108.75,81.0,364.99999999999994,104.5,194.24999999999997,352.24999999999994,45.75,83.75,139.0,48.0,190.75,135.0,187.50000000000003,263.0,244.25,286.75,384.5,-25.0,290.5,394.25,34.75,454.74999999999994,58.5,374.25,257.5,152.5,178.0,272.0,317.0,-9.25,367.0,396.99999999999994,276.75,168.50000000000003,265.25,176.25000000000003,157.25,339.5,171.99999999999997,285.25,180.5,-33.0,136.75,59.25,422.0,41.25,279.25,325.25,128.0,267.5,106.25000000000001,167.0,349.75000000000006,357.5,159.0,232.75000000000003,332.5,116.75,22.5,265.0,235.75,142.25,319.75,100.5,91.0,77.5,68.74999999999999,370.75,210.25,81.00000000000001,412.0,58.75,146.0,414.25,302.5,223.0,241.75,142.49999999999997,479.50000000000006,244.25,391.75000000000006,278.0,416.75,442.5,46.75,364.0,277.0,214.25,213.0,211.0,201.75,10.75,420.5,298.25,253.75,271.0,-8.5,306.75,229.25,380.25,197.50000000000003,-8.5,124.5,359.5,165.49999999999997,25.0,336.0,95.75,88.25000000000001,122.0,390.0,422.99999999999994,68.75,300.5,362.75000000000006,42.25,58.250000000000014,208.25,108.25,72.00000000000001,-17.250000000000014,89.5,145.25,358.75,265.0,34.5,300.5,-10.5,138.75,190.99999999999997,286.0,299.5,365.25,215.50000000000003,-12.250000000000007,470.49999999999994,197.5,119.75000000000001,71.0,235.25,276.5,-16.25,239.75,376.25,228.5,40.0,359.5,286.75,385.74999999999994,407.24999999999994,245.25,5.0,313.5,407.74999999999994,-29.75,285.0,42.75,353.25000000000006,282.75,207.0,295.0,254.75,275.5,141.75,372.25,-35.5,265.25,45.75,286.5,426.25,464.75000000000006,412.75,187.75,166.0,-3.749999999999986,146.74999999999997,443.75,110.0,75.5,103.75,204.75,108.75,373.75000000000006,80.24999999999999,185.75,340.75,192.5,45.0,44.500000000000014,208.75000000000003,-6.25,334.75,297.5,82.75,321.5,140.25,177.0,87.0,336.5,178.25,376.5,278.25,184.75,77.25,110.25000000000001,218.25,259.0,300.25,203.74999999999997,322.75,231.25,248.50000000000003,471.5,-12.25,229.0,276.5,319.5,67.75,217.00000000000003,19.5,263.5,87.75,0.0,388.00000000000006,349.75,273.25,398.5,-15.75,92.5,91.24999999999999,196.75,-0.25,320.5,254.75,-20.5,376.75,32.5,82.75000000000001,-27.000000000000014,300.25,389.99999999999994,347.24999999999994,123.24999999999999,305.25,-6.0,226.00000000000003,191.75,335.0,94.75,419.24999999999994,329.0,107.25,339.0,163.75000000000003,71.25,387.0,251.5,20.25,168.25,221.75,182.5,264.25,201.0,168.99999999999997,239.75,171.99999999999997,206.24999999999997,-10.75,137.0,177.5,247.75000000000003,355.75,284.5,102.5,-23.500000000000007,87.25,127.0,172.49999999999997,135.25,145.75,385.5,29.749999999999993,360.75,292.25,36.25,28.999999999999986,256.75,202.0,415.75,114.5,-1.5,143.0,-19.250000000000014,-2.0,270.0,393.00000000000006,64.5,144.0,0.75,49.500000000000014,284.0,195.25,471.0,273.0,129.0,413.5,171.75,364.25,343.0,80.75,390.75,182.5,-14.75,465.5,-26.25,168.75,369.25,150.0,233.49999999999997,185.75000000000003,344.0,201.0,350.25,125.75,129.25,50.999999999999986,113.5,389.5,152.25,364.75,388.5,120.25,308.5,99.50000000000001,334.75,208.0,372.75,211.0,325.5,23.25,86.75,348.0,-3.5,67.0,417.0,148.00000000000003,274.5,362.25,98.25,355.25,32.000000000000014,322.5,272.0,12.25,94.25,120.5,264.75,-71.25,114.25,387.5,401.0,74.0,113.25,389.99999999999994,115.99999999999999,34.25000000000001,165.0,100.75,93.25,80.0,142.25,-3.5,32.25,370.25,285.5,-57.25000000000001,349.0,122.50000000000001,415.25000000000006,342.0,447.50000000000006,-3.0,430.99999999999994,117.5,251.0,227.75,131.5,258.75,-13.75,411.99999999999994,219.25,134.25,433.0,46.499999999999986,235.0,-14.75,422.5,209.0,227.25000000000003,399.74999999999994,56.25,163.25,109.5,347.75,179.25,3.25,312.75,161.00000000000003,332.0,137.25,341.25,-38.0,186.5,58.749999999999986,111.75000000000001,185.50000000000003,363.5,-47.5,73.5,338.5,173.5,215.75,47.500000000000014,327.0,95.50000000000001,361.75,439.5,23.250000000000007,53.749999999999986,3.75,456.75000000000006,324.0,35.000000000000014,-13.0,308.5,16.5,251.25,238.99999999999997,24.500000000000014,146.75,264.75,255.99999999999997,154.25,263.75,64.25,206.75,71.5,391.49999999999994,419.75,168.75000000000003,29.5,365.75000000000006,153.75,286.25,297.75,57.0,214.25000000000003,276.75,424.75,35.0,257.25,310.5,183.5,128.25000000000003,-14.25,186.74999999999997,414.5,44.5,-14.5,12.0,324.5,351.99999999999994,222.25000000000003,395.74999999999994,92.49999999999999,316.75,203.75,59.499999999999986,-11.500000000000007,232.25,273.0,299.0,192.75,172.25,319.25,293.25,104.24999999999997,234.25,288.0,130.0,80.5,118.75,342.25,36.5,318.25,17.0,141.5,41.0,72.25,393.24999999999994,81.25000000000001,98.74999999999999,268.75,254.0,217.5,8.249999999999996,11.75,424.25000000000006,242.25,396.5,321.75,96.74999999999999,53.999999999999986,408.00000000000006,244.25,296.75,239.25,147.75,42.75,101.5,173.50000000000003,246.25,353.49999999999994,166.50000000000003,327.0,293.75,367.75,169.50000000000003,322.75,179.0,152.00000000000003,219.5,41.75,159.25,314.75,87.25,319.5,367.24999999999994],\"type\":\"histogram\",\"xaxis\":\"x\",\"yaxis\":\"y\"}],                        {\"template\":{\"data\":{\"histogram2dcontour\":[{\"type\":\"histogram2dcontour\",\"colorbar\":{\"outlinewidth\":0,\"ticks\":\"\"},\"colorscale\":[[0.0,\"#0d0887\"],[0.1111111111111111,\"#46039f\"],[0.2222222222222222,\"#7201a8\"],[0.3333333333333333,\"#9c179e\"],[0.4444444444444444,\"#bd3786\"],[0.5555555555555556,\"#d8576b\"],[0.6666666666666666,\"#ed7953\"],[0.7777777777777778,\"#fb9f3a\"],[0.8888888888888888,\"#fdca26\"],[1.0,\"#f0f921\"]]}],\"choropleth\":[{\"type\":\"choropleth\",\"colorbar\":{\"outlinewidth\":0,\"ticks\":\"\"}}],\"histogram2d\":[{\"type\":\"histogram2d\",\"colorbar\":{\"outlinewidth\":0,\"ticks\":\"\"},\"colorscale\":[[0.0,\"#0d0887\"],[0.1111111111111111,\"#46039f\"],[0.2222222222222222,\"#7201a8\"],[0.3333333333333333,\"#9c179e\"],[0.4444444444444444,\"#bd3786\"],[0.5555555555555556,\"#d8576b\"],[0.6666666666666666,\"#ed7953\"],[0.7777777777777778,\"#fb9f3a\"],[0.8888888888888888,\"#fdca26\"],[1.0,\"#f0f921\"]]}],\"heatmap\":[{\"type\":\"heatmap\",\"colorbar\":{\"outlinewidth\":0,\"ticks\":\"\"},\"colorscale\":[[0.0,\"#0d0887\"],[0.1111111111111111,\"#46039f\"],[0.2222222222222222,\"#7201a8\"],[0.3333333333333333,\"#9c179e\"],[0.4444444444444444,\"#bd3786\"],[0.5555555555555556,\"#d8576b\"],[0.6666666666666666,\"#ed7953\"],[0.7777777777777778,\"#fb9f3a\"],[0.8888888888888888,\"#fdca26\"],[1.0,\"#f0f921\"]]}],\"heatmapgl\":[{\"type\":\"heatmapgl\",\"colorbar\":{\"outlinewidth\":0,\"ticks\":\"\"},\"colorscale\":[[0.0,\"#0d0887\"],[0.1111111111111111,\"#46039f\"],[0.2222222222222222,\"#7201a8\"],[0.3333333333333333,\"#9c179e\"],[0.4444444444444444,\"#bd3786\"],[0.5555555555555556,\"#d8576b\"],[0.6666666666666666,\"#ed7953\"],[0.7777777777777778,\"#fb9f3a\"],[0.8888888888888888,\"#fdca26\"],[1.0,\"#f0f921\"]]}],\"contourcarpet\":[{\"type\":\"contourcarpet\",\"colorbar\":{\"outlinewidth\":0,\"ticks\":\"\"}}],\"contour\":[{\"type\":\"contour\",\"colorbar\":{\"outlinewidth\":0,\"ticks\":\"\"},\"colorscale\":[[0.0,\"#0d0887\"],[0.1111111111111111,\"#46039f\"],[0.2222222222222222,\"#7201a8\"],[0.3333333333333333,\"#9c179e\"],[0.4444444444444444,\"#bd3786\"],[0.5555555555555556,\"#d8576b\"],[0.6666666666666666,\"#ed7953\"],[0.7777777777777778,\"#fb9f3a\"],[0.8888888888888888,\"#fdca26\"],[1.0,\"#f0f921\"]]}],\"surface\":[{\"type\":\"surface\",\"colorbar\":{\"outlinewidth\":0,\"ticks\":\"\"},\"colorscale\":[[0.0,\"#0d0887\"],[0.1111111111111111,\"#46039f\"],[0.2222222222222222,\"#7201a8\"],[0.3333333333333333,\"#9c179e\"],[0.4444444444444444,\"#bd3786\"],[0.5555555555555556,\"#d8576b\"],[0.6666666666666666,\"#ed7953\"],[0.7777777777777778,\"#fb9f3a\"],[0.8888888888888888,\"#fdca26\"],[1.0,\"#f0f921\"]]}],\"mesh3d\":[{\"type\":\"mesh3d\",\"colorbar\":{\"outlinewidth\":0,\"ticks\":\"\"}}],\"scatter\":[{\"fillpattern\":{\"fillmode\":\"overlay\",\"size\":10,\"solidity\":0.2},\"type\":\"scatter\"}],\"parcoords\":[{\"type\":\"parcoords\",\"line\":{\"colorbar\":{\"outlinewidth\":0,\"ticks\":\"\"}}}],\"scatterpolargl\":[{\"type\":\"scatterpolargl\",\"marker\":{\"colorbar\":{\"outlinewidth\":0,\"ticks\":\"\"}}}],\"bar\":[{\"error_x\":{\"color\":\"#2a3f5f\"},\"error_y\":{\"color\":\"#2a3f5f\"},\"marker\":{\"line\":{\"color\":\"white\",\"width\":0.5},\"pattern\":{\"fillmode\":\"overlay\",\"size\":10,\"solidity\":0.2}},\"type\":\"bar\"}],\"scattergeo\":[{\"type\":\"scattergeo\",\"marker\":{\"colorbar\":{\"outlinewidth\":0,\"ticks\":\"\"}}}],\"scatterpolar\":[{\"type\":\"scatterpolar\",\"marker\":{\"colorbar\":{\"outlinewidth\":0,\"ticks\":\"\"}}}],\"histogram\":[{\"marker\":{\"pattern\":{\"fillmode\":\"overlay\",\"size\":10,\"solidity\":0.2}},\"type\":\"histogram\"}],\"scattergl\":[{\"type\":\"scattergl\",\"marker\":{\"colorbar\":{\"outlinewidth\":0,\"ticks\":\"\"}}}],\"scatter3d\":[{\"type\":\"scatter3d\",\"line\":{\"colorbar\":{\"outlinewidth\":0,\"ticks\":\"\"}},\"marker\":{\"colorbar\":{\"outlinewidth\":0,\"ticks\":\"\"}}}],\"scattermapbox\":[{\"type\":\"scattermapbox\",\"marker\":{\"colorbar\":{\"outlinewidth\":0,\"ticks\":\"\"}}}],\"scatterternary\":[{\"type\":\"scatterternary\",\"marker\":{\"colorbar\":{\"outlinewidth\":0,\"ticks\":\"\"}}}],\"scattercarpet\":[{\"type\":\"scattercarpet\",\"marker\":{\"colorbar\":{\"outlinewidth\":0,\"ticks\":\"\"}}}],\"carpet\":[{\"aaxis\":{\"endlinecolor\":\"#2a3f5f\",\"gridcolor\":\"#C8D4E3\",\"linecolor\":\"#C8D4E3\",\"minorgridcolor\":\"#C8D4E3\",\"startlinecolor\":\"#2a3f5f\"},\"baxis\":{\"endlinecolor\":\"#2a3f5f\",\"gridcolor\":\"#C8D4E3\",\"linecolor\":\"#C8D4E3\",\"minorgridcolor\":\"#C8D4E3\",\"startlinecolor\":\"#2a3f5f\"},\"type\":\"carpet\"}],\"table\":[{\"cells\":{\"fill\":{\"color\":\"#EBF0F8\"},\"line\":{\"color\":\"white\"}},\"header\":{\"fill\":{\"color\":\"#C8D4E3\"},\"line\":{\"color\":\"white\"}},\"type\":\"table\"}],\"barpolar\":[{\"marker\":{\"line\":{\"color\":\"white\",\"width\":0.5},\"pattern\":{\"fillmode\":\"overlay\",\"size\":10,\"solidity\":0.2}},\"type\":\"barpolar\"}],\"pie\":[{\"automargin\":true,\"type\":\"pie\"}]},\"layout\":{\"autotypenumbers\":\"strict\",\"colorway\":[\"#636efa\",\"#EF553B\",\"#00cc96\",\"#ab63fa\",\"#FFA15A\",\"#19d3f3\",\"#FF6692\",\"#B6E880\",\"#FF97FF\",\"#FECB52\"],\"font\":{\"color\":\"#2a3f5f\"},\"hovermode\":\"closest\",\"hoverlabel\":{\"align\":\"left\"},\"paper_bgcolor\":\"white\",\"plot_bgcolor\":\"white\",\"polar\":{\"bgcolor\":\"white\",\"angularaxis\":{\"gridcolor\":\"#EBF0F8\",\"linecolor\":\"#EBF0F8\",\"ticks\":\"\"},\"radialaxis\":{\"gridcolor\":\"#EBF0F8\",\"linecolor\":\"#EBF0F8\",\"ticks\":\"\"}},\"ternary\":{\"bgcolor\":\"white\",\"aaxis\":{\"gridcolor\":\"#DFE8F3\",\"linecolor\":\"#A2B1C6\",\"ticks\":\"\"},\"baxis\":{\"gridcolor\":\"#DFE8F3\",\"linecolor\":\"#A2B1C6\",\"ticks\":\"\"},\"caxis\":{\"gridcolor\":\"#DFE8F3\",\"linecolor\":\"#A2B1C6\",\"ticks\":\"\"}},\"coloraxis\":{\"colorbar\":{\"outlinewidth\":0,\"ticks\":\"\"}},\"colorscale\":{\"sequential\":[[0.0,\"#0d0887\"],[0.1111111111111111,\"#46039f\"],[0.2222222222222222,\"#7201a8\"],[0.3333333333333333,\"#9c179e\"],[0.4444444444444444,\"#bd3786\"],[0.5555555555555556,\"#d8576b\"],[0.6666666666666666,\"#ed7953\"],[0.7777777777777778,\"#fb9f3a\"],[0.8888888888888888,\"#fdca26\"],[1.0,\"#f0f921\"]],\"sequentialminus\":[[0.0,\"#0d0887\"],[0.1111111111111111,\"#46039f\"],[0.2222222222222222,\"#7201a8\"],[0.3333333333333333,\"#9c179e\"],[0.4444444444444444,\"#bd3786\"],[0.5555555555555556,\"#d8576b\"],[0.6666666666666666,\"#ed7953\"],[0.7777777777777778,\"#fb9f3a\"],[0.8888888888888888,\"#fdca26\"],[1.0,\"#f0f921\"]],\"diverging\":[[0,\"#8e0152\"],[0.1,\"#c51b7d\"],[0.2,\"#de77ae\"],[0.3,\"#f1b6da\"],[0.4,\"#fde0ef\"],[0.5,\"#f7f7f7\"],[0.6,\"#e6f5d0\"],[0.7,\"#b8e186\"],[0.8,\"#7fbc41\"],[0.9,\"#4d9221\"],[1,\"#276419\"]]},\"xaxis\":{\"gridcolor\":\"#EBF0F8\",\"linecolor\":\"#EBF0F8\",\"ticks\":\"\",\"title\":{\"standoff\":15},\"zerolinecolor\":\"#EBF0F8\",\"automargin\":true,\"zerolinewidth\":2},\"yaxis\":{\"gridcolor\":\"#EBF0F8\",\"linecolor\":\"#EBF0F8\",\"ticks\":\"\",\"title\":{\"standoff\":15},\"zerolinecolor\":\"#EBF0F8\",\"automargin\":true,\"zerolinewidth\":2},\"scene\":{\"xaxis\":{\"backgroundcolor\":\"white\",\"gridcolor\":\"#DFE8F3\",\"linecolor\":\"#EBF0F8\",\"showbackground\":true,\"ticks\":\"\",\"zerolinecolor\":\"#EBF0F8\",\"gridwidth\":2},\"yaxis\":{\"backgroundcolor\":\"white\",\"gridcolor\":\"#DFE8F3\",\"linecolor\":\"#EBF0F8\",\"showbackground\":true,\"ticks\":\"\",\"zerolinecolor\":\"#EBF0F8\",\"gridwidth\":2},\"zaxis\":{\"backgroundcolor\":\"white\",\"gridcolor\":\"#DFE8F3\",\"linecolor\":\"#EBF0F8\",\"showbackground\":true,\"ticks\":\"\",\"zerolinecolor\":\"#EBF0F8\",\"gridwidth\":2}},\"shapedefaults\":{\"line\":{\"color\":\"#2a3f5f\"}},\"annotationdefaults\":{\"arrowcolor\":\"#2a3f5f\",\"arrowhead\":0,\"arrowwidth\":1},\"geo\":{\"bgcolor\":\"white\",\"landcolor\":\"white\",\"subunitcolor\":\"#C8D4E3\",\"showland\":true,\"showlakes\":true,\"lakecolor\":\"white\"},\"title\":{\"x\":0.05},\"mapbox\":{\"style\":\"light\"}}},\"xaxis\":{\"anchor\":\"y\",\"domain\":[0.0,1.0],\"title\":{\"text\":\"Profit\"}},\"yaxis\":{\"anchor\":\"x\",\"domain\":[0.0,1.0],\"title\":{\"text\":\"Density\"}},\"title\":{\"text\":\"<b>Actual vs. Recommended Discount and Commission</b>\",\"x\":0.45}},                        {\"responsive\": true}                    ).then(function(){\n",
       "                            \n",
       "var gd = document.getElementById('7f0ae354-47d0-4f5b-ad0a-5ae4dd3691bd');\n",
       "var x = new MutationObserver(function (mutations, observer) {{\n",
       "        var display = window.getComputedStyle(gd).display;\n",
       "        if (!display || display === 'none') {{\n",
       "            console.log([gd, 'removed!']);\n",
       "            Plotly.purge(gd);\n",
       "            observer.disconnect();\n",
       "        }}\n",
       "}});\n",
       "\n",
       "// Listen for the removal of the full notebook cells\n",
       "var notebookContainer = gd.closest('#notebook-container');\n",
       "if (notebookContainer) {{\n",
       "    x.observe(notebookContainer, {childList: true});\n",
       "}}\n",
       "\n",
       "// Listen for the clearing of the current output cell\n",
       "var outputEl = gd.closest('.output');\n",
       "if (outputEl) {{\n",
       "    x.observe(outputEl, {childList: true});\n",
       "}}\n",
       "\n",
       "                        })                };                });            </script>        </div>"
      ]
     },
     "metadata": {},
     "output_type": "display_data"
    }
   ],
   "source": [
    "# simulate profitability with recommended discounts and commissions\n",
    "recommended_commission_percentage = 31.0  # Recommended commission percentage (actual: 30.51%)\n",
    "recommended_discount_percentage = 6.0    # Recommended discount percentage (actual: 5.86%)\n",
    "\n",
    "# calculate the simulated commission fee and discount amount using recommended percentages\n",
    "data['Simulated Commission Fee'] = data['Order Value'] * (recommended_commission_percentage / 100)\n",
    "data['Simulated Discount Amount'] = data['Order Value'] * (recommended_discount_percentage / 100)\n",
    "\n",
    "# recalculate total costs and profit with simulated values\n",
    "data['Simulated Total Costs'] = (data['Delivery Fee'] + data['Payment Processing Fee'] + data['Simulated Discount Amount'])\n",
    "data['Simulated Profit'] = (data['Simulated Commission Fee'] - data['Simulated Total Costs'])\n",
    "\n",
    "# Create a subplot\n",
    "fig = make_subplots(rows=1, cols=1)\n",
    "\n",
    "# Actual profitability\n",
    "fig.add_trace(go.Histogram(x=data['Profit'], histnorm='probability density', \n",
    "                            name='Actual Profitability', marker_color='skyblue',\n",
    "                            opacity=0.5), row=1, col=1)\n",
    "\n",
    "# Simulated profitability\n",
    "fig.add_trace(go.Histogram(x=data['Simulated Profit'], histnorm='probability density', \n",
    "                            name='Estimated Profitability with Recommended Rates', marker_color='orange',\n",
    "                            opacity=0.5), row=1, col=1)\n",
    "\n",
    "# Update layout\n",
    "fig.update_layout(title='<b>Actual vs. Recommended Discount and Commission</b>',\n",
    "                  xaxis_title='Profit', yaxis_title='Density', title_x=0.45 )\n",
    "\n",
    "# Show the plot\n",
    "fig.show()\n"
   ]
  },
  {
   "cell_type": "markdown",
   "id": "51b0d195",
   "metadata": {},
   "source": [
    "* The visualization compares the distribution of profitability per order using actual discounts and commissions versus the simulated scenario with recommended discounts (6%) and commissions (30%).\n",
    "\n",
    "* The actual profitability distribution shows a mix, with a significant portion of orders resulting in losses (profit < 0) and a broad spread of profit levels for orders.\n",
    "\n",
    "* The simulated scenario suggests a shift towards higher profitability per order. The distribution is more skewed towards positive profit, indicating that the recommended adjustments could lead to a higher proportion of profitable orders."
   ]
  },
  {
   "cell_type": "markdown",
   "id": "73a69bee",
   "metadata": {},
   "source": [
    "# CONCLUSION:"
   ]
  },
  {
   "cell_type": "markdown",
   "id": "749593c6",
   "metadata": {},
   "source": [
    "\n",
    "### Payment Method: \n",
    "* Cash on Delivery leads as the most preferred payment method, followed closely by Credit Card and Digital Wallet.\n",
    "\n",
    "### Flexible Delivery Fees: \n",
    "* Customers are open to varying delivery fees, suggesting opportunities to adjust fee structures strategically to optimize revenue.\n",
    "\n",
    "### Need for Continuous Improvement: \n",
    "* While most orders experience no refunds or chargebacks, ongoing enhancements in customer service processes are vital to minimize potential revenue losses.\n",
    "\n",
    "### Profitability Challenges: \n",
    "* Despite a volume of orders (1,000), total costs exceed revenue, resulting in a net loss of -105,719.85 INR.\n",
    "\n",
    "### Optimization Strategy: \n",
    "* To enhance profitability, businesses should aim for an optimal balance between discounts and commissions, with suggested average rates of 31% and 6%, respectively."
   ]
  },
  {
   "cell_type": "code",
   "execution_count": null,
   "id": "0477c2a4",
   "metadata": {},
   "outputs": [],
   "source": []
  }
 ],
 "metadata": {
  "kernelspec": {
   "display_name": "Python 3 (ipykernel)",
   "language": "python",
   "name": "python3"
  },
  "language_info": {
   "codemirror_mode": {
    "name": "ipython",
    "version": 3
   },
   "file_extension": ".py",
   "mimetype": "text/x-python",
   "name": "python",
   "nbconvert_exporter": "python",
   "pygments_lexer": "ipython3",
   "version": "3.11.7"
  }
 },
 "nbformat": 4,
 "nbformat_minor": 5
}
